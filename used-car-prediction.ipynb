{
 "cells": [
  {
   "cell_type": "code",
   "execution_count": 1,
   "id": "303a2845",
   "metadata": {
    "_cell_guid": "b1076dfc-b9ad-4769-8c92-a6c4dae69d19",
    "_uuid": "8f2839f25d086af736a60e9eeb907d3b93b6e0e5",
    "execution": {
     "iopub.execute_input": "2022-08-20T18:30:03.016161Z",
     "iopub.status.busy": "2022-08-20T18:30:03.015399Z",
     "iopub.status.idle": "2022-08-20T18:30:03.035140Z",
     "shell.execute_reply": "2022-08-20T18:30:03.034068Z"
    },
    "papermill": {
     "duration": 0.028953,
     "end_time": "2022-08-20T18:30:03.038540",
     "exception": false,
     "start_time": "2022-08-20T18:30:03.009587",
     "status": "completed"
    },
    "tags": []
   },
   "outputs": [
    {
     "name": "stdout",
     "output_type": "stream",
     "text": [
      "/kaggle/input/used-car-price-predictions/true_car_listings.csv\n"
     ]
    }
   ],
   "source": [
    "# This Python 3 environment comes with many helpful analytics libraries installed\n",
    "# It is defined by the kaggle/python Docker image: https://github.com/kaggle/docker-python\n",
    "# For example, here's several helpful packages to load\n",
    "\n",
    "import numpy as np # linear algebra\n",
    "import pandas as pd # data processing, CSV file I/O (e.g. pd.read_csv)\n",
    "\n",
    "# Input data files are available in the read-only \"../input/\" directory\n",
    "# For example, running this (by clicking run or pressing Shift+Enter) will list all files under the input directory\n",
    "\n",
    "import os\n",
    "for dirname, _, filenames in os.walk('/kaggle/input'):\n",
    "    for filename in filenames:\n",
    "        print(os.path.join(dirname, filename))\n",
    "\n",
    "# You can write up to 20GB to the current directory (/kaggle/working/) that gets preserved as output when you create a version using \"Save & Run All\" \n",
    "# You can also write temporary files to /kaggle/temp/, but they won't be saved outside of the current session"
   ]
  },
  {
   "cell_type": "code",
   "execution_count": 2,
   "id": "d61ac50b",
   "metadata": {
    "execution": {
     "iopub.execute_input": "2022-08-20T18:30:03.047912Z",
     "iopub.status.busy": "2022-08-20T18:30:03.047181Z",
     "iopub.status.idle": "2022-08-20T18:30:04.223814Z",
     "shell.execute_reply": "2022-08-20T18:30:04.222621Z"
    },
    "papermill": {
     "duration": 1.183956,
     "end_time": "2022-08-20T18:30:04.226614",
     "exception": false,
     "start_time": "2022-08-20T18:30:03.042658",
     "status": "completed"
    },
    "tags": []
   },
   "outputs": [],
   "source": [
    "#Importing required labraries  \n",
    "import matplotlib.pyplot as plt\n",
    "import seaborn as sns\n",
    "from pylab import *"
   ]
  },
  {
   "cell_type": "code",
   "execution_count": 3,
   "id": "d946400c",
   "metadata": {
    "execution": {
     "iopub.execute_input": "2022-08-20T18:30:04.234637Z",
     "iopub.status.busy": "2022-08-20T18:30:04.234228Z",
     "iopub.status.idle": "2022-08-20T18:30:05.976732Z",
     "shell.execute_reply": "2022-08-20T18:30:05.975632Z"
    },
    "papermill": {
     "duration": 1.752754,
     "end_time": "2022-08-20T18:30:05.982660",
     "exception": false,
     "start_time": "2022-08-20T18:30:04.229906",
     "status": "completed"
    },
    "tags": []
   },
   "outputs": [
    {
     "data": {
      "text/html": [
       "<div>\n",
       "<style scoped>\n",
       "    .dataframe tbody tr th:only-of-type {\n",
       "        vertical-align: middle;\n",
       "    }\n",
       "\n",
       "    .dataframe tbody tr th {\n",
       "        vertical-align: top;\n",
       "    }\n",
       "\n",
       "    .dataframe thead th {\n",
       "        text-align: right;\n",
       "    }\n",
       "</style>\n",
       "<table border=\"1\" class=\"dataframe\">\n",
       "  <thead>\n",
       "    <tr style=\"text-align: right;\">\n",
       "      <th></th>\n",
       "      <th>Price</th>\n",
       "      <th>Year</th>\n",
       "      <th>Mileage</th>\n",
       "      <th>City</th>\n",
       "      <th>State</th>\n",
       "      <th>Vin</th>\n",
       "      <th>Make</th>\n",
       "      <th>Model</th>\n",
       "    </tr>\n",
       "  </thead>\n",
       "  <tbody>\n",
       "    <tr>\n",
       "      <th>0</th>\n",
       "      <td>8995</td>\n",
       "      <td>2014</td>\n",
       "      <td>35725</td>\n",
       "      <td>El Paso</td>\n",
       "      <td>TX</td>\n",
       "      <td>19VDE2E53EE000083</td>\n",
       "      <td>Acura</td>\n",
       "      <td>ILX6-Speed</td>\n",
       "    </tr>\n",
       "    <tr>\n",
       "      <th>1</th>\n",
       "      <td>10888</td>\n",
       "      <td>2013</td>\n",
       "      <td>19606</td>\n",
       "      <td>Long Island City</td>\n",
       "      <td>NY</td>\n",
       "      <td>19VDE1F52DE012636</td>\n",
       "      <td>Acura</td>\n",
       "      <td>ILX5-Speed</td>\n",
       "    </tr>\n",
       "    <tr>\n",
       "      <th>2</th>\n",
       "      <td>8995</td>\n",
       "      <td>2013</td>\n",
       "      <td>48851</td>\n",
       "      <td>El Paso</td>\n",
       "      <td>TX</td>\n",
       "      <td>19VDE2E52DE000025</td>\n",
       "      <td>Acura</td>\n",
       "      <td>ILX6-Speed</td>\n",
       "    </tr>\n",
       "    <tr>\n",
       "      <th>3</th>\n",
       "      <td>10999</td>\n",
       "      <td>2014</td>\n",
       "      <td>39922</td>\n",
       "      <td>Windsor</td>\n",
       "      <td>CO</td>\n",
       "      <td>19VDE1F71EE003817</td>\n",
       "      <td>Acura</td>\n",
       "      <td>ILX5-Speed</td>\n",
       "    </tr>\n",
       "    <tr>\n",
       "      <th>4</th>\n",
       "      <td>14799</td>\n",
       "      <td>2016</td>\n",
       "      <td>22142</td>\n",
       "      <td>Lindon</td>\n",
       "      <td>UT</td>\n",
       "      <td>19UDE2F32GA001284</td>\n",
       "      <td>Acura</td>\n",
       "      <td>ILXAutomatic</td>\n",
       "    </tr>\n",
       "  </tbody>\n",
       "</table>\n",
       "</div>"
      ],
      "text/plain": [
       "   Price  Year  Mileage              City State                Vin   Make  \\\n",
       "0   8995  2014    35725           El Paso    TX  19VDE2E53EE000083  Acura   \n",
       "1  10888  2013    19606  Long Island City    NY  19VDE1F52DE012636  Acura   \n",
       "2   8995  2013    48851           El Paso    TX  19VDE2E52DE000025  Acura   \n",
       "3  10999  2014    39922           Windsor    CO  19VDE1F71EE003817  Acura   \n",
       "4  14799  2016    22142            Lindon    UT  19UDE2F32GA001284  Acura   \n",
       "\n",
       "          Model  \n",
       "0    ILX6-Speed  \n",
       "1    ILX5-Speed  \n",
       "2    ILX6-Speed  \n",
       "3    ILX5-Speed  \n",
       "4  ILXAutomatic  "
      ]
     },
     "execution_count": 3,
     "metadata": {},
     "output_type": "execute_result"
    }
   ],
   "source": [
    "df = pd.read_csv(\"/kaggle/input/used-car-price-predictions/true_car_listings.csv\")\n",
    "df.head(5)"
   ]
  },
  {
   "cell_type": "code",
   "execution_count": 4,
   "id": "33c76610",
   "metadata": {
    "execution": {
     "iopub.execute_input": "2022-08-20T18:30:05.991130Z",
     "iopub.status.busy": "2022-08-20T18:30:05.990710Z",
     "iopub.status.idle": "2022-08-20T18:30:06.005392Z",
     "shell.execute_reply": "2022-08-20T18:30:06.004204Z"
    },
    "papermill": {
     "duration": 0.021885,
     "end_time": "2022-08-20T18:30:06.008091",
     "exception": false,
     "start_time": "2022-08-20T18:30:05.986206",
     "status": "completed"
    },
    "tags": []
   },
   "outputs": [
    {
     "data": {
      "text/html": [
       "<div>\n",
       "<style scoped>\n",
       "    .dataframe tbody tr th:only-of-type {\n",
       "        vertical-align: middle;\n",
       "    }\n",
       "\n",
       "    .dataframe tbody tr th {\n",
       "        vertical-align: top;\n",
       "    }\n",
       "\n",
       "    .dataframe thead th {\n",
       "        text-align: right;\n",
       "    }\n",
       "</style>\n",
       "<table border=\"1\" class=\"dataframe\">\n",
       "  <thead>\n",
       "    <tr style=\"text-align: right;\">\n",
       "      <th></th>\n",
       "      <th>Price</th>\n",
       "      <th>Year</th>\n",
       "      <th>Mileage</th>\n",
       "      <th>City</th>\n",
       "      <th>State</th>\n",
       "      <th>Vin</th>\n",
       "      <th>Make</th>\n",
       "      <th>Model</th>\n",
       "    </tr>\n",
       "  </thead>\n",
       "  <tbody>\n",
       "    <tr>\n",
       "      <th>852117</th>\n",
       "      <td>63215</td>\n",
       "      <td>2017</td>\n",
       "      <td>9</td>\n",
       "      <td>Culver City</td>\n",
       "      <td>CA</td>\n",
       "      <td>YV1A22MK9H1013237</td>\n",
       "      <td>Volvo</td>\n",
       "      <td>S90T6</td>\n",
       "    </tr>\n",
       "    <tr>\n",
       "      <th>852118</th>\n",
       "      <td>72260</td>\n",
       "      <td>2017</td>\n",
       "      <td>3201</td>\n",
       "      <td>Englewood</td>\n",
       "      <td>NJ</td>\n",
       "      <td>YV4A22PL3H1186162</td>\n",
       "      <td>Volvo</td>\n",
       "      <td>XC90T6</td>\n",
       "    </tr>\n",
       "    <tr>\n",
       "      <th>852119</th>\n",
       "      <td>55999</td>\n",
       "      <td>2016</td>\n",
       "      <td>28941</td>\n",
       "      <td>Fort Collins</td>\n",
       "      <td>CO</td>\n",
       "      <td>YV4A22PL4G1000868</td>\n",
       "      <td>Volvo</td>\n",
       "      <td>XC90AWD</td>\n",
       "    </tr>\n",
       "    <tr>\n",
       "      <th>852120</th>\n",
       "      <td>60240</td>\n",
       "      <td>2017</td>\n",
       "      <td>3005</td>\n",
       "      <td>San Leandro</td>\n",
       "      <td>CA</td>\n",
       "      <td>YV4A22NLXH1006162</td>\n",
       "      <td>Volvo</td>\n",
       "      <td>V90</td>\n",
       "    </tr>\n",
       "    <tr>\n",
       "      <th>852121</th>\n",
       "      <td>76995</td>\n",
       "      <td>2017</td>\n",
       "      <td>2502</td>\n",
       "      <td>New York</td>\n",
       "      <td>NY</td>\n",
       "      <td>YV4BC0ZX1H1109845</td>\n",
       "      <td>Volvo</td>\n",
       "      <td>XC90T8</td>\n",
       "    </tr>\n",
       "  </tbody>\n",
       "</table>\n",
       "</div>"
      ],
      "text/plain": [
       "        Price  Year  Mileage          City State                Vin   Make  \\\n",
       "852117  63215  2017        9   Culver City    CA  YV1A22MK9H1013237  Volvo   \n",
       "852118  72260  2017     3201     Englewood    NJ  YV4A22PL3H1186162  Volvo   \n",
       "852119  55999  2016    28941  Fort Collins    CO  YV4A22PL4G1000868  Volvo   \n",
       "852120  60240  2017     3005   San Leandro    CA  YV4A22NLXH1006162  Volvo   \n",
       "852121  76995  2017     2502      New York    NY  YV4BC0ZX1H1109845  Volvo   \n",
       "\n",
       "          Model  \n",
       "852117    S90T6  \n",
       "852118   XC90T6  \n",
       "852119  XC90AWD  \n",
       "852120      V90  \n",
       "852121   XC90T8  "
      ]
     },
     "execution_count": 4,
     "metadata": {},
     "output_type": "execute_result"
    }
   ],
   "source": [
    "df.tail(5)"
   ]
  },
  {
   "cell_type": "code",
   "execution_count": 5,
   "id": "8bd2f23f",
   "metadata": {
    "execution": {
     "iopub.execute_input": "2022-08-20T18:30:06.017093Z",
     "iopub.status.busy": "2022-08-20T18:30:06.016676Z",
     "iopub.status.idle": "2022-08-20T18:30:06.228371Z",
     "shell.execute_reply": "2022-08-20T18:30:06.226646Z"
    },
    "papermill": {
     "duration": 0.219804,
     "end_time": "2022-08-20T18:30:06.231447",
     "exception": false,
     "start_time": "2022-08-20T18:30:06.011643",
     "status": "completed"
    },
    "tags": []
   },
   "outputs": [
    {
     "name": "stdout",
     "output_type": "stream",
     "text": [
      "<class 'pandas.core.frame.DataFrame'>\n",
      "RangeIndex: 852122 entries, 0 to 852121\n",
      "Data columns (total 8 columns):\n",
      " #   Column   Non-Null Count   Dtype \n",
      "---  ------   --------------   ----- \n",
      " 0   Price    852122 non-null  int64 \n",
      " 1   Year     852122 non-null  int64 \n",
      " 2   Mileage  852122 non-null  int64 \n",
      " 3   City     852122 non-null  object\n",
      " 4   State    852122 non-null  object\n",
      " 5   Vin      852122 non-null  object\n",
      " 6   Make     852122 non-null  object\n",
      " 7   Model    852122 non-null  object\n",
      "dtypes: int64(3), object(5)\n",
      "memory usage: 52.0+ MB\n"
     ]
    }
   ],
   "source": [
    "df.info()"
   ]
  },
  {
   "cell_type": "code",
   "execution_count": 6,
   "id": "6f7ce844",
   "metadata": {
    "execution": {
     "iopub.execute_input": "2022-08-20T18:30:06.240942Z",
     "iopub.status.busy": "2022-08-20T18:30:06.240444Z",
     "iopub.status.idle": "2022-08-20T18:30:06.433474Z",
     "shell.execute_reply": "2022-08-20T18:30:06.432282Z"
    },
    "papermill": {
     "duration": 0.201032,
     "end_time": "2022-08-20T18:30:06.436339",
     "exception": false,
     "start_time": "2022-08-20T18:30:06.235307",
     "status": "completed"
    },
    "tags": []
   },
   "outputs": [
    {
     "data": {
      "text/plain": [
       "Price      0\n",
       "Year       0\n",
       "Mileage    0\n",
       "City       0\n",
       "State      0\n",
       "Vin        0\n",
       "Make       0\n",
       "Model      0\n",
       "dtype: int64"
      ]
     },
     "execution_count": 6,
     "metadata": {},
     "output_type": "execute_result"
    }
   ],
   "source": [
    "df.isnull().sum()"
   ]
  },
  {
   "cell_type": "code",
   "execution_count": 7,
   "id": "e0f10c1f",
   "metadata": {
    "execution": {
     "iopub.execute_input": "2022-08-20T18:30:06.445747Z",
     "iopub.status.busy": "2022-08-20T18:30:06.445336Z",
     "iopub.status.idle": "2022-08-20T18:30:07.879382Z",
     "shell.execute_reply": "2022-08-20T18:30:07.878135Z"
    },
    "papermill": {
     "duration": 1.441873,
     "end_time": "2022-08-20T18:30:07.882087",
     "exception": false,
     "start_time": "2022-08-20T18:30:06.440214",
     "status": "completed"
    },
    "tags": []
   },
   "outputs": [
    {
     "data": {
      "text/html": [
       "<div>\n",
       "<style scoped>\n",
       "    .dataframe tbody tr th:only-of-type {\n",
       "        vertical-align: middle;\n",
       "    }\n",
       "\n",
       "    .dataframe tbody tr th {\n",
       "        vertical-align: top;\n",
       "    }\n",
       "\n",
       "    .dataframe thead th {\n",
       "        text-align: right;\n",
       "    }\n",
       "</style>\n",
       "<table border=\"1\" class=\"dataframe\">\n",
       "  <thead>\n",
       "    <tr style=\"text-align: right;\">\n",
       "      <th></th>\n",
       "      <th>City</th>\n",
       "      <th>State</th>\n",
       "      <th>Vin</th>\n",
       "      <th>Make</th>\n",
       "      <th>Model</th>\n",
       "    </tr>\n",
       "  </thead>\n",
       "  <tbody>\n",
       "    <tr>\n",
       "      <th>count</th>\n",
       "      <td>852122</td>\n",
       "      <td>852122</td>\n",
       "      <td>852122</td>\n",
       "      <td>852122</td>\n",
       "      <td>852122</td>\n",
       "    </tr>\n",
       "    <tr>\n",
       "      <th>unique</th>\n",
       "      <td>2553</td>\n",
       "      <td>59</td>\n",
       "      <td>852075</td>\n",
       "      <td>58</td>\n",
       "      <td>2736</td>\n",
       "    </tr>\n",
       "    <tr>\n",
       "      <th>top</th>\n",
       "      <td>Houston</td>\n",
       "      <td>TX</td>\n",
       "      <td>2G1FA1E37E9293949</td>\n",
       "      <td>Ford</td>\n",
       "      <td>Silverado</td>\n",
       "    </tr>\n",
       "    <tr>\n",
       "      <th>freq</th>\n",
       "      <td>12703</td>\n",
       "      <td>94654</td>\n",
       "      <td>2</td>\n",
       "      <td>110432</td>\n",
       "      <td>24932</td>\n",
       "    </tr>\n",
       "  </tbody>\n",
       "</table>\n",
       "</div>"
      ],
      "text/plain": [
       "           City   State                Vin    Make      Model\n",
       "count    852122  852122             852122  852122     852122\n",
       "unique     2553      59             852075      58       2736\n",
       "top     Houston      TX  2G1FA1E37E9293949    Ford  Silverado\n",
       "freq      12703   94654                  2  110432      24932"
      ]
     },
     "execution_count": 7,
     "metadata": {},
     "output_type": "execute_result"
    }
   ],
   "source": [
    "df.describe(include=object)"
   ]
  },
  {
   "cell_type": "code",
   "execution_count": null,
   "id": "67e2cfee",
   "metadata": {
    "papermill": {
     "duration": 0.003984,
     "end_time": "2022-08-20T18:30:07.890577",
     "exception": false,
     "start_time": "2022-08-20T18:30:07.886593",
     "status": "completed"
    },
    "tags": []
   },
   "outputs": [],
   "source": []
  },
  {
   "cell_type": "code",
   "execution_count": null,
   "id": "a33e5ef6",
   "metadata": {
    "papermill": {
     "duration": 0.003994,
     "end_time": "2022-08-20T18:30:07.898708",
     "exception": false,
     "start_time": "2022-08-20T18:30:07.894714",
     "status": "completed"
    },
    "tags": []
   },
   "outputs": [],
   "source": []
  }
 ],
 "metadata": {
  "kernelspec": {
   "display_name": "Python 3",
   "language": "python",
   "name": "python3"
  },
  "language_info": {
   "codemirror_mode": {
    "name": "ipython",
    "version": 3
   },
   "file_extension": ".py",
   "mimetype": "text/x-python",
   "name": "python",
   "nbconvert_exporter": "python",
   "pygments_lexer": "ipython3",
   "version": "3.7.12"
  },
  "papermill": {
   "default_parameters": {},
   "duration": 15.087609,
   "end_time": "2022-08-20T18:30:08.727068",
   "environment_variables": {},
   "exception": null,
   "input_path": "__notebook__.ipynb",
   "output_path": "__notebook__.ipynb",
   "parameters": {},
   "start_time": "2022-08-20T18:29:53.639459",
   "version": "2.3.4"
  }
 },
 "nbformat": 4,
 "nbformat_minor": 5
}
