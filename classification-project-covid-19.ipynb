{
 "cells": [
  {
   "cell_type": "code",
   "execution_count": 1,
   "id": "d88a27a3",
   "metadata": {
    "_cell_guid": "b1076dfc-b9ad-4769-8c92-a6c4dae69d19",
    "_uuid": "8f2839f25d086af736a60e9eeb907d3b93b6e0e5",
    "execution": {
     "iopub.execute_input": "2023-02-03T15:19:23.763806Z",
     "iopub.status.busy": "2023-02-03T15:19:23.763033Z",
     "iopub.status.idle": "2023-02-03T15:19:24.964036Z",
     "shell.execute_reply": "2023-02-03T15:19:24.962870Z"
    },
    "papermill": {
     "duration": 1.212352,
     "end_time": "2023-02-03T15:19:24.967177",
     "exception": false,
     "start_time": "2023-02-03T15:19:23.754825",
     "status": "completed"
    },
    "tags": []
   },
   "outputs": [
    {
     "name": "stdout",
     "output_type": "stream",
     "text": [
      "/kaggle/input/covid19-dataset/Covid Data.csv\n"
     ]
    }
   ],
   "source": [
    "# This Python 3 environment comes with many helpful analytics libraries installed\n",
    "# It is defined by the kaggle/python Docker image: https://github.com/kaggle/docker-python\n",
    "# For example, here's several helpful packages to load\n",
    "\n",
    "import numpy as np # linear algebra\n",
    "import pandas as pd # data processing, CSV file I/O (e.g. pd.read_csv)\n",
    "import matplotlib.pyplot as plt\n",
    "%matplotlib inline\n",
    "import seaborn as sns\n",
    "\n",
    "# Input data files are available in the read-only \"../input/\" directory\n",
    "# For example, running this (by clicking run or pressing Shift+Enter) will list all files under the input directory\n",
    "\n",
    "import os\n",
    "for dirname, _, filenames in os.walk('/kaggle/input'):\n",
    "    for filename in filenames:\n",
    "        print(os.path.join(dirname, filename))\n",
    "\n",
    "# You can write up to 20GB to the current directory (/kaggle/working/) that gets preserved as output when you create a version using \"Save & Run All\" \n",
    "# You can also write temporary files to /kaggle/temp/, but they won't be saved outside of the current session"
   ]
  },
  {
   "cell_type": "code",
   "execution_count": 2,
   "id": "e3e614e8",
   "metadata": {
    "execution": {
     "iopub.execute_input": "2023-02-03T15:19:24.980389Z",
     "iopub.status.busy": "2023-02-03T15:19:24.979974Z",
     "iopub.status.idle": "2023-02-03T15:19:27.744798Z",
     "shell.execute_reply": "2023-02-03T15:19:27.743457Z"
    },
    "papermill": {
     "duration": 2.775002,
     "end_time": "2023-02-03T15:19:27.747920",
     "exception": false,
     "start_time": "2023-02-03T15:19:24.972918",
     "status": "completed"
    },
    "tags": []
   },
   "outputs": [
    {
     "name": "stdout",
     "output_type": "stream",
     "text": [
      "Shape of Dataset: (1048575, 21)\n"
     ]
    },
    {
     "data": {
      "text/html": [
       "<div>\n",
       "<style scoped>\n",
       "    .dataframe tbody tr th:only-of-type {\n",
       "        vertical-align: middle;\n",
       "    }\n",
       "\n",
       "    .dataframe tbody tr th {\n",
       "        vertical-align: top;\n",
       "    }\n",
       "\n",
       "    .dataframe thead th {\n",
       "        text-align: right;\n",
       "    }\n",
       "</style>\n",
       "<table border=\"1\" class=\"dataframe\">\n",
       "  <thead>\n",
       "    <tr style=\"text-align: right;\">\n",
       "      <th></th>\n",
       "      <th>USMER</th>\n",
       "      <th>MEDICAL_UNIT</th>\n",
       "      <th>SEX</th>\n",
       "      <th>PATIENT_TYPE</th>\n",
       "      <th>DATE_DIED</th>\n",
       "      <th>INTUBED</th>\n",
       "      <th>PNEUMONIA</th>\n",
       "      <th>AGE</th>\n",
       "      <th>PREGNANT</th>\n",
       "      <th>DIABETES</th>\n",
       "      <th>...</th>\n",
       "      <th>ASTHMA</th>\n",
       "      <th>INMSUPR</th>\n",
       "      <th>HIPERTENSION</th>\n",
       "      <th>OTHER_DISEASE</th>\n",
       "      <th>CARDIOVASCULAR</th>\n",
       "      <th>OBESITY</th>\n",
       "      <th>RENAL_CHRONIC</th>\n",
       "      <th>TOBACCO</th>\n",
       "      <th>CLASIFFICATION_FINAL</th>\n",
       "      <th>ICU</th>\n",
       "    </tr>\n",
       "  </thead>\n",
       "  <tbody>\n",
       "    <tr>\n",
       "      <th>0</th>\n",
       "      <td>2</td>\n",
       "      <td>1</td>\n",
       "      <td>1</td>\n",
       "      <td>1</td>\n",
       "      <td>03/05/2020</td>\n",
       "      <td>97</td>\n",
       "      <td>1</td>\n",
       "      <td>65</td>\n",
       "      <td>2</td>\n",
       "      <td>2</td>\n",
       "      <td>...</td>\n",
       "      <td>2</td>\n",
       "      <td>2</td>\n",
       "      <td>1</td>\n",
       "      <td>2</td>\n",
       "      <td>2</td>\n",
       "      <td>2</td>\n",
       "      <td>2</td>\n",
       "      <td>2</td>\n",
       "      <td>3</td>\n",
       "      <td>97</td>\n",
       "    </tr>\n",
       "    <tr>\n",
       "      <th>1</th>\n",
       "      <td>2</td>\n",
       "      <td>1</td>\n",
       "      <td>2</td>\n",
       "      <td>1</td>\n",
       "      <td>03/06/2020</td>\n",
       "      <td>97</td>\n",
       "      <td>1</td>\n",
       "      <td>72</td>\n",
       "      <td>97</td>\n",
       "      <td>2</td>\n",
       "      <td>...</td>\n",
       "      <td>2</td>\n",
       "      <td>2</td>\n",
       "      <td>1</td>\n",
       "      <td>2</td>\n",
       "      <td>2</td>\n",
       "      <td>1</td>\n",
       "      <td>1</td>\n",
       "      <td>2</td>\n",
       "      <td>5</td>\n",
       "      <td>97</td>\n",
       "    </tr>\n",
       "    <tr>\n",
       "      <th>2</th>\n",
       "      <td>2</td>\n",
       "      <td>1</td>\n",
       "      <td>2</td>\n",
       "      <td>2</td>\n",
       "      <td>09/06/2020</td>\n",
       "      <td>1</td>\n",
       "      <td>2</td>\n",
       "      <td>55</td>\n",
       "      <td>97</td>\n",
       "      <td>1</td>\n",
       "      <td>...</td>\n",
       "      <td>2</td>\n",
       "      <td>2</td>\n",
       "      <td>2</td>\n",
       "      <td>2</td>\n",
       "      <td>2</td>\n",
       "      <td>2</td>\n",
       "      <td>2</td>\n",
       "      <td>2</td>\n",
       "      <td>3</td>\n",
       "      <td>2</td>\n",
       "    </tr>\n",
       "    <tr>\n",
       "      <th>3</th>\n",
       "      <td>2</td>\n",
       "      <td>1</td>\n",
       "      <td>1</td>\n",
       "      <td>1</td>\n",
       "      <td>12/06/2020</td>\n",
       "      <td>97</td>\n",
       "      <td>2</td>\n",
       "      <td>53</td>\n",
       "      <td>2</td>\n",
       "      <td>2</td>\n",
       "      <td>...</td>\n",
       "      <td>2</td>\n",
       "      <td>2</td>\n",
       "      <td>2</td>\n",
       "      <td>2</td>\n",
       "      <td>2</td>\n",
       "      <td>2</td>\n",
       "      <td>2</td>\n",
       "      <td>2</td>\n",
       "      <td>7</td>\n",
       "      <td>97</td>\n",
       "    </tr>\n",
       "    <tr>\n",
       "      <th>4</th>\n",
       "      <td>2</td>\n",
       "      <td>1</td>\n",
       "      <td>2</td>\n",
       "      <td>1</td>\n",
       "      <td>21/06/2020</td>\n",
       "      <td>97</td>\n",
       "      <td>2</td>\n",
       "      <td>68</td>\n",
       "      <td>97</td>\n",
       "      <td>1</td>\n",
       "      <td>...</td>\n",
       "      <td>2</td>\n",
       "      <td>2</td>\n",
       "      <td>1</td>\n",
       "      <td>2</td>\n",
       "      <td>2</td>\n",
       "      <td>2</td>\n",
       "      <td>2</td>\n",
       "      <td>2</td>\n",
       "      <td>3</td>\n",
       "      <td>97</td>\n",
       "    </tr>\n",
       "  </tbody>\n",
       "</table>\n",
       "<p>5 rows × 21 columns</p>\n",
       "</div>"
      ],
      "text/plain": [
       "   USMER  MEDICAL_UNIT  SEX  PATIENT_TYPE   DATE_DIED  INTUBED  PNEUMONIA  \\\n",
       "0      2             1    1             1  03/05/2020       97          1   \n",
       "1      2             1    2             1  03/06/2020       97          1   \n",
       "2      2             1    2             2  09/06/2020        1          2   \n",
       "3      2             1    1             1  12/06/2020       97          2   \n",
       "4      2             1    2             1  21/06/2020       97          2   \n",
       "\n",
       "   AGE  PREGNANT  DIABETES  ...  ASTHMA  INMSUPR  HIPERTENSION  OTHER_DISEASE  \\\n",
       "0   65         2         2  ...       2        2             1              2   \n",
       "1   72        97         2  ...       2        2             1              2   \n",
       "2   55        97         1  ...       2        2             2              2   \n",
       "3   53         2         2  ...       2        2             2              2   \n",
       "4   68        97         1  ...       2        2             1              2   \n",
       "\n",
       "   CARDIOVASCULAR  OBESITY  RENAL_CHRONIC  TOBACCO  CLASIFFICATION_FINAL  ICU  \n",
       "0               2        2              2        2                     3   97  \n",
       "1               2        1              1        2                     5   97  \n",
       "2               2        2              2        2                     3    2  \n",
       "3               2        2              2        2                     7   97  \n",
       "4               2        2              2        2                     3   97  \n",
       "\n",
       "[5 rows x 21 columns]"
      ]
     },
     "execution_count": 2,
     "metadata": {},
     "output_type": "execute_result"
    }
   ],
   "source": [
    "df = pd.read_csv(\"/kaggle/input/covid19-dataset/Covid Data.csv\")\n",
    "print(\"Shape of Dataset:\", df.shape)\n",
    "df.head()"
   ]
  },
  {
   "cell_type": "code",
   "execution_count": 3,
   "id": "76217897",
   "metadata": {
    "execution": {
     "iopub.execute_input": "2023-02-03T15:19:27.762025Z",
     "iopub.status.busy": "2023-02-03T15:19:27.761603Z",
     "iopub.status.idle": "2023-02-03T15:19:27.781502Z",
     "shell.execute_reply": "2023-02-03T15:19:27.780389Z"
    },
    "papermill": {
     "duration": 0.029742,
     "end_time": "2023-02-03T15:19:27.784219",
     "exception": false,
     "start_time": "2023-02-03T15:19:27.754477",
     "status": "completed"
    },
    "tags": []
   },
   "outputs": [
    {
     "data": {
      "text/html": [
       "<div>\n",
       "<style scoped>\n",
       "    .dataframe tbody tr th:only-of-type {\n",
       "        vertical-align: middle;\n",
       "    }\n",
       "\n",
       "    .dataframe tbody tr th {\n",
       "        vertical-align: top;\n",
       "    }\n",
       "\n",
       "    .dataframe thead th {\n",
       "        text-align: right;\n",
       "    }\n",
       "</style>\n",
       "<table border=\"1\" class=\"dataframe\">\n",
       "  <thead>\n",
       "    <tr style=\"text-align: right;\">\n",
       "      <th></th>\n",
       "      <th>USMER</th>\n",
       "      <th>MEDICAL_UNIT</th>\n",
       "      <th>SEX</th>\n",
       "      <th>PATIENT_TYPE</th>\n",
       "      <th>DATE_DIED</th>\n",
       "      <th>INTUBED</th>\n",
       "      <th>PNEUMONIA</th>\n",
       "      <th>AGE</th>\n",
       "      <th>PREGNANT</th>\n",
       "      <th>DIABETES</th>\n",
       "      <th>...</th>\n",
       "      <th>ASTHMA</th>\n",
       "      <th>INMSUPR</th>\n",
       "      <th>HIPERTENSION</th>\n",
       "      <th>OTHER_DISEASE</th>\n",
       "      <th>CARDIOVASCULAR</th>\n",
       "      <th>OBESITY</th>\n",
       "      <th>RENAL_CHRONIC</th>\n",
       "      <th>TOBACCO</th>\n",
       "      <th>CLASIFFICATION_FINAL</th>\n",
       "      <th>ICU</th>\n",
       "    </tr>\n",
       "  </thead>\n",
       "  <tbody>\n",
       "    <tr>\n",
       "      <th>1048570</th>\n",
       "      <td>2</td>\n",
       "      <td>13</td>\n",
       "      <td>2</td>\n",
       "      <td>1</td>\n",
       "      <td>9999-99-99</td>\n",
       "      <td>97</td>\n",
       "      <td>2</td>\n",
       "      <td>40</td>\n",
       "      <td>97</td>\n",
       "      <td>2</td>\n",
       "      <td>...</td>\n",
       "      <td>2</td>\n",
       "      <td>2</td>\n",
       "      <td>2</td>\n",
       "      <td>2</td>\n",
       "      <td>2</td>\n",
       "      <td>2</td>\n",
       "      <td>2</td>\n",
       "      <td>2</td>\n",
       "      <td>7</td>\n",
       "      <td>97</td>\n",
       "    </tr>\n",
       "    <tr>\n",
       "      <th>1048571</th>\n",
       "      <td>1</td>\n",
       "      <td>13</td>\n",
       "      <td>2</td>\n",
       "      <td>2</td>\n",
       "      <td>9999-99-99</td>\n",
       "      <td>2</td>\n",
       "      <td>2</td>\n",
       "      <td>51</td>\n",
       "      <td>97</td>\n",
       "      <td>2</td>\n",
       "      <td>...</td>\n",
       "      <td>2</td>\n",
       "      <td>2</td>\n",
       "      <td>1</td>\n",
       "      <td>2</td>\n",
       "      <td>2</td>\n",
       "      <td>2</td>\n",
       "      <td>2</td>\n",
       "      <td>2</td>\n",
       "      <td>7</td>\n",
       "      <td>2</td>\n",
       "    </tr>\n",
       "    <tr>\n",
       "      <th>1048572</th>\n",
       "      <td>2</td>\n",
       "      <td>13</td>\n",
       "      <td>2</td>\n",
       "      <td>1</td>\n",
       "      <td>9999-99-99</td>\n",
       "      <td>97</td>\n",
       "      <td>2</td>\n",
       "      <td>55</td>\n",
       "      <td>97</td>\n",
       "      <td>2</td>\n",
       "      <td>...</td>\n",
       "      <td>2</td>\n",
       "      <td>2</td>\n",
       "      <td>2</td>\n",
       "      <td>2</td>\n",
       "      <td>2</td>\n",
       "      <td>2</td>\n",
       "      <td>2</td>\n",
       "      <td>2</td>\n",
       "      <td>7</td>\n",
       "      <td>97</td>\n",
       "    </tr>\n",
       "    <tr>\n",
       "      <th>1048573</th>\n",
       "      <td>2</td>\n",
       "      <td>13</td>\n",
       "      <td>2</td>\n",
       "      <td>1</td>\n",
       "      <td>9999-99-99</td>\n",
       "      <td>97</td>\n",
       "      <td>2</td>\n",
       "      <td>28</td>\n",
       "      <td>97</td>\n",
       "      <td>2</td>\n",
       "      <td>...</td>\n",
       "      <td>2</td>\n",
       "      <td>2</td>\n",
       "      <td>2</td>\n",
       "      <td>2</td>\n",
       "      <td>2</td>\n",
       "      <td>2</td>\n",
       "      <td>2</td>\n",
       "      <td>2</td>\n",
       "      <td>7</td>\n",
       "      <td>97</td>\n",
       "    </tr>\n",
       "    <tr>\n",
       "      <th>1048574</th>\n",
       "      <td>2</td>\n",
       "      <td>13</td>\n",
       "      <td>2</td>\n",
       "      <td>1</td>\n",
       "      <td>9999-99-99</td>\n",
       "      <td>97</td>\n",
       "      <td>2</td>\n",
       "      <td>52</td>\n",
       "      <td>97</td>\n",
       "      <td>2</td>\n",
       "      <td>...</td>\n",
       "      <td>2</td>\n",
       "      <td>2</td>\n",
       "      <td>2</td>\n",
       "      <td>2</td>\n",
       "      <td>2</td>\n",
       "      <td>2</td>\n",
       "      <td>2</td>\n",
       "      <td>2</td>\n",
       "      <td>7</td>\n",
       "      <td>97</td>\n",
       "    </tr>\n",
       "  </tbody>\n",
       "</table>\n",
       "<p>5 rows × 21 columns</p>\n",
       "</div>"
      ],
      "text/plain": [
       "         USMER  MEDICAL_UNIT  SEX  PATIENT_TYPE   DATE_DIED  INTUBED  \\\n",
       "1048570      2            13    2             1  9999-99-99       97   \n",
       "1048571      1            13    2             2  9999-99-99        2   \n",
       "1048572      2            13    2             1  9999-99-99       97   \n",
       "1048573      2            13    2             1  9999-99-99       97   \n",
       "1048574      2            13    2             1  9999-99-99       97   \n",
       "\n",
       "         PNEUMONIA  AGE  PREGNANT  DIABETES  ...  ASTHMA  INMSUPR  \\\n",
       "1048570          2   40        97         2  ...       2        2   \n",
       "1048571          2   51        97         2  ...       2        2   \n",
       "1048572          2   55        97         2  ...       2        2   \n",
       "1048573          2   28        97         2  ...       2        2   \n",
       "1048574          2   52        97         2  ...       2        2   \n",
       "\n",
       "         HIPERTENSION  OTHER_DISEASE  CARDIOVASCULAR  OBESITY  RENAL_CHRONIC  \\\n",
       "1048570             2              2               2        2              2   \n",
       "1048571             1              2               2        2              2   \n",
       "1048572             2              2               2        2              2   \n",
       "1048573             2              2               2        2              2   \n",
       "1048574             2              2               2        2              2   \n",
       "\n",
       "         TOBACCO  CLASIFFICATION_FINAL  ICU  \n",
       "1048570        2                     7   97  \n",
       "1048571        2                     7    2  \n",
       "1048572        2                     7   97  \n",
       "1048573        2                     7   97  \n",
       "1048574        2                     7   97  \n",
       "\n",
       "[5 rows x 21 columns]"
      ]
     },
     "execution_count": 3,
     "metadata": {},
     "output_type": "execute_result"
    }
   ],
   "source": [
    "df.tail(5)"
   ]
  },
  {
   "cell_type": "code",
   "execution_count": 4,
   "id": "6f208f54",
   "metadata": {
    "execution": {
     "iopub.execute_input": "2023-02-03T15:19:27.798536Z",
     "iopub.status.busy": "2023-02-03T15:19:27.798096Z",
     "iopub.status.idle": "2023-02-03T15:19:27.899007Z",
     "shell.execute_reply": "2023-02-03T15:19:27.897378Z"
    },
    "papermill": {
     "duration": 0.111173,
     "end_time": "2023-02-03T15:19:27.901786",
     "exception": false,
     "start_time": "2023-02-03T15:19:27.790613",
     "status": "completed"
    },
    "tags": []
   },
   "outputs": [
    {
     "name": "stdout",
     "output_type": "stream",
     "text": [
      "<class 'pandas.core.frame.DataFrame'>\n",
      "RangeIndex: 1048575 entries, 0 to 1048574\n",
      "Data columns (total 21 columns):\n",
      " #   Column                Non-Null Count    Dtype \n",
      "---  ------                --------------    ----- \n",
      " 0   USMER                 1048575 non-null  int64 \n",
      " 1   MEDICAL_UNIT          1048575 non-null  int64 \n",
      " 2   SEX                   1048575 non-null  int64 \n",
      " 3   PATIENT_TYPE          1048575 non-null  int64 \n",
      " 4   DATE_DIED             1048575 non-null  object\n",
      " 5   INTUBED               1048575 non-null  int64 \n",
      " 6   PNEUMONIA             1048575 non-null  int64 \n",
      " 7   AGE                   1048575 non-null  int64 \n",
      " 8   PREGNANT              1048575 non-null  int64 \n",
      " 9   DIABETES              1048575 non-null  int64 \n",
      " 10  COPD                  1048575 non-null  int64 \n",
      " 11  ASTHMA                1048575 non-null  int64 \n",
      " 12  INMSUPR               1048575 non-null  int64 \n",
      " 13  HIPERTENSION          1048575 non-null  int64 \n",
      " 14  OTHER_DISEASE         1048575 non-null  int64 \n",
      " 15  CARDIOVASCULAR        1048575 non-null  int64 \n",
      " 16  OBESITY               1048575 non-null  int64 \n",
      " 17  RENAL_CHRONIC         1048575 non-null  int64 \n",
      " 18  TOBACCO               1048575 non-null  int64 \n",
      " 19  CLASIFFICATION_FINAL  1048575 non-null  int64 \n",
      " 20  ICU                   1048575 non-null  int64 \n",
      "dtypes: int64(20), object(1)\n",
      "memory usage: 168.0+ MB\n"
     ]
    }
   ],
   "source": [
    "df.info()"
   ]
  },
  {
   "cell_type": "code",
   "execution_count": 5,
   "id": "5a6ec835",
   "metadata": {
    "execution": {
     "iopub.execute_input": "2023-02-03T15:19:27.916450Z",
     "iopub.status.busy": "2023-02-03T15:19:27.915953Z",
     "iopub.status.idle": "2023-02-03T15:19:28.129755Z",
     "shell.execute_reply": "2023-02-03T15:19:28.128415Z"
    },
    "papermill": {
     "duration": 0.224385,
     "end_time": "2023-02-03T15:19:28.132575",
     "exception": false,
     "start_time": "2023-02-03T15:19:27.908190",
     "status": "completed"
    },
    "tags": []
   },
   "outputs": [
    {
     "data": {
      "text/plain": [
       "USMER                     2\n",
       "MEDICAL_UNIT             13\n",
       "SEX                       2\n",
       "PATIENT_TYPE              2\n",
       "DATE_DIED               401\n",
       "INTUBED                   4\n",
       "PNEUMONIA                 3\n",
       "AGE                     121\n",
       "PREGNANT                  4\n",
       "DIABETES                  3\n",
       "COPD                      3\n",
       "ASTHMA                    3\n",
       "INMSUPR                   3\n",
       "HIPERTENSION              3\n",
       "OTHER_DISEASE             3\n",
       "CARDIOVASCULAR            3\n",
       "OBESITY                   3\n",
       "RENAL_CHRONIC             3\n",
       "TOBACCO                   3\n",
       "CLASIFFICATION_FINAL      7\n",
       "ICU                       4\n",
       "dtype: int64"
      ]
     },
     "execution_count": 5,
     "metadata": {},
     "output_type": "execute_result"
    }
   ],
   "source": [
    "df.nunique()"
   ]
  },
  {
   "cell_type": "markdown",
   "id": "b5a6c2f2",
   "metadata": {
    "papermill": {
     "duration": 0.005961,
     "end_time": "2023-02-03T15:19:28.145004",
     "exception": false,
     "start_time": "2023-02-03T15:19:28.139043",
     "status": "completed"
    },
    "tags": []
   },
   "source": [
    "after seeing covid19 data is looks quite confusing, because they have mentioned few things with 1=\"yes\" and 2 = \"no\" but , that's going to undefined way to deal with this data, so i'm working on this project by myself and trying to apply my ideas on it\n",
    "so first of all we need to \n",
    "* find out non usable rows and need to declare gender column as string (M or f), so we could differentiate high changes of getting my gender and also cure treatment period , if womans is pregnant \n",
    "* patient type needs to change as \"home \" and hospitalize\" so we could classify data sets, if returned home don't need medical needs\n",
    "* \n"
   ]
  },
  {
   "cell_type": "code",
   "execution_count": 6,
   "id": "5ece4f49",
   "metadata": {
    "execution": {
     "iopub.execute_input": "2023-02-03T15:19:28.159280Z",
     "iopub.status.busy": "2023-02-03T15:19:28.158857Z",
     "iopub.status.idle": "2023-02-03T15:19:28.250556Z",
     "shell.execute_reply": "2023-02-03T15:19:28.249352Z"
    },
    "papermill": {
     "duration": 0.101785,
     "end_time": "2023-02-03T15:19:28.253112",
     "exception": false,
     "start_time": "2023-02-03T15:19:28.151327",
     "status": "completed"
    },
    "tags": []
   },
   "outputs": [
    {
     "data": {
      "text/html": [
       "<div>\n",
       "<style scoped>\n",
       "    .dataframe tbody tr th:only-of-type {\n",
       "        vertical-align: middle;\n",
       "    }\n",
       "\n",
       "    .dataframe tbody tr th {\n",
       "        vertical-align: top;\n",
       "    }\n",
       "\n",
       "    .dataframe thead th {\n",
       "        text-align: right;\n",
       "    }\n",
       "</style>\n",
       "<table border=\"1\" class=\"dataframe\">\n",
       "  <thead>\n",
       "    <tr style=\"text-align: right;\">\n",
       "      <th></th>\n",
       "      <th>MEDICAL_UNIT</th>\n",
       "      <th>DATE_DIED</th>\n",
       "      <th>SEX</th>\n",
       "      <th>PATIENT_TYPE</th>\n",
       "      <th>AGE</th>\n",
       "      <th>USMER</th>\n",
       "      <th>INTUBED</th>\n",
       "      <th>PNEUMONIA</th>\n",
       "      <th>DIABETES</th>\n",
       "      <th>COPD</th>\n",
       "      <th>ASTHMA</th>\n",
       "      <th>INMSUPR</th>\n",
       "      <th>HIPERTENSION</th>\n",
       "      <th>OTHER_DISEASE</th>\n",
       "      <th>CARDIOVASCULAR</th>\n",
       "      <th>OBESITY</th>\n",
       "      <th>RENAL_CHRONIC</th>\n",
       "      <th>TOBACCO</th>\n",
       "      <th>CLASIFFICATION_FINAL</th>\n",
       "      <th>ICU</th>\n",
       "    </tr>\n",
       "  </thead>\n",
       "  <tbody>\n",
       "    <tr>\n",
       "      <th>0</th>\n",
       "      <td>1</td>\n",
       "      <td>03/05/2020</td>\n",
       "      <td>1</td>\n",
       "      <td>1</td>\n",
       "      <td>65</td>\n",
       "      <td>2</td>\n",
       "      <td>97</td>\n",
       "      <td>1</td>\n",
       "      <td>2</td>\n",
       "      <td>2</td>\n",
       "      <td>2</td>\n",
       "      <td>2</td>\n",
       "      <td>1</td>\n",
       "      <td>2</td>\n",
       "      <td>2</td>\n",
       "      <td>2</td>\n",
       "      <td>2</td>\n",
       "      <td>2</td>\n",
       "      <td>3</td>\n",
       "      <td>97</td>\n",
       "    </tr>\n",
       "    <tr>\n",
       "      <th>1</th>\n",
       "      <td>1</td>\n",
       "      <td>03/06/2020</td>\n",
       "      <td>2</td>\n",
       "      <td>1</td>\n",
       "      <td>72</td>\n",
       "      <td>2</td>\n",
       "      <td>97</td>\n",
       "      <td>1</td>\n",
       "      <td>2</td>\n",
       "      <td>2</td>\n",
       "      <td>2</td>\n",
       "      <td>2</td>\n",
       "      <td>1</td>\n",
       "      <td>2</td>\n",
       "      <td>2</td>\n",
       "      <td>1</td>\n",
       "      <td>1</td>\n",
       "      <td>2</td>\n",
       "      <td>5</td>\n",
       "      <td>97</td>\n",
       "    </tr>\n",
       "  </tbody>\n",
       "</table>\n",
       "</div>"
      ],
      "text/plain": [
       "   MEDICAL_UNIT   DATE_DIED  SEX  PATIENT_TYPE  AGE  USMER  INTUBED  \\\n",
       "0             1  03/05/2020    1             1   65      2       97   \n",
       "1             1  03/06/2020    2             1   72      2       97   \n",
       "\n",
       "   PNEUMONIA  DIABETES  COPD  ASTHMA  INMSUPR  HIPERTENSION  OTHER_DISEASE  \\\n",
       "0          1         2     2       2        2             1              2   \n",
       "1          1         2     2       2        2             1              2   \n",
       "\n",
       "   CARDIOVASCULAR  OBESITY  RENAL_CHRONIC  TOBACCO  CLASIFFICATION_FINAL  ICU  \n",
       "0               2        2              2        2                     3   97  \n",
       "1               2        1              1        2                     5   97  "
      ]
     },
     "execution_count": 6,
     "metadata": {},
     "output_type": "execute_result"
    }
   ],
   "source": [
    "df = df.reindex(columns=['MEDICAL_UNIT','DATE_DIED','SEX','PATIENT_TYPE','AGE','USMER','INTUBED', 'PNEUMONIA','DIABETES','COPD','ASTHMA','INMSUPR','HIPERTENSION','OTHER_DISEASE','CARDIOVASCULAR','OBESITY','RENAL_CHRONIC','TOBACCO','CLASIFFICATION_FINAL','ICU'])\n",
    "df.head(2)"
   ]
  },
  {
   "cell_type": "code",
   "execution_count": 7,
   "id": "bc91ed5e",
   "metadata": {
    "execution": {
     "iopub.execute_input": "2023-02-03T15:19:28.268396Z",
     "iopub.status.busy": "2023-02-03T15:19:28.267211Z",
     "iopub.status.idle": "2023-02-03T15:19:28.649401Z",
     "shell.execute_reply": "2023-02-03T15:19:28.648245Z"
    },
    "papermill": {
     "duration": 0.392482,
     "end_time": "2023-02-03T15:19:28.652108",
     "exception": false,
     "start_time": "2023-02-03T15:19:28.259626",
     "status": "completed"
    },
    "tags": []
   },
   "outputs": [],
   "source": [
    "df.loc[df['DATE_DIED'] =='9999-99-99', 'DIED'] = \"Alive\"\n",
    "df.loc[df['DATE_DIED'] !='9999-99-99', 'DIED'] = \"Died\"\n",
    "df = df.drop(['DATE_DIED'], axis=1)\n"
   ]
  },
  {
   "cell_type": "code",
   "execution_count": 8,
   "id": "383cef61",
   "metadata": {
    "execution": {
     "iopub.execute_input": "2023-02-03T15:19:28.667279Z",
     "iopub.status.busy": "2023-02-03T15:19:28.666841Z",
     "iopub.status.idle": "2023-02-03T15:19:28.672480Z",
     "shell.execute_reply": "2023-02-03T15:19:28.671274Z"
    },
    "papermill": {
     "duration": 0.016186,
     "end_time": "2023-02-03T15:19:28.675105",
     "exception": false,
     "start_time": "2023-02-03T15:19:28.658919",
     "status": "completed"
    },
    "tags": []
   },
   "outputs": [],
   "source": [
    "#df.drop(['DATE_DIED'], axis=1)\n",
    "#df1.head(2)\n",
    "#df['OTHER_DISEASE'].value_counts()"
   ]
  },
  {
   "cell_type": "code",
   "execution_count": 9,
   "id": "7ae62f91",
   "metadata": {
    "execution": {
     "iopub.execute_input": "2023-02-03T15:19:28.690622Z",
     "iopub.status.busy": "2023-02-03T15:19:28.689432Z",
     "iopub.status.idle": "2023-02-03T15:19:30.551176Z",
     "shell.execute_reply": "2023-02-03T15:19:30.549966Z"
    },
    "papermill": {
     "duration": 1.872307,
     "end_time": "2023-02-03T15:19:30.553973",
     "exception": false,
     "start_time": "2023-02-03T15:19:28.681666",
     "status": "completed"
    },
    "tags": []
   },
   "outputs": [
    {
     "data": {
      "text/plain": [
       "MEDICAL_UNIT                 0\n",
       "SEX                          0\n",
       "PATIENT_TYPE                 0\n",
       "AGE                        135\n",
       "USMER                        0\n",
       "INTUBED                 848544\n",
       "PNEUMONIA                    0\n",
       "DIABETES                     0\n",
       "COPD                         0\n",
       "ASTHMA                       0\n",
       "INMSUPR                      0\n",
       "HIPERTENSION                 0\n",
       "OTHER_DISEASE                0\n",
       "CARDIOVASCULAR               0\n",
       "OBESITY                      0\n",
       "RENAL_CHRONIC                0\n",
       "TOBACCO                      0\n",
       "CLASIFFICATION_FINAL         0\n",
       "ICU                     848544\n",
       "DIED                         0\n",
       "dtype: int64"
      ]
     },
     "execution_count": 9,
     "metadata": {},
     "output_type": "execute_result"
    }
   ],
   "source": [
    "# 97, 98 and 99 are missing values in given datasets\n",
    "df[df == 97.0].count()"
   ]
  },
  {
   "cell_type": "code",
   "execution_count": 10,
   "id": "bb88d56e",
   "metadata": {
    "execution": {
     "iopub.execute_input": "2023-02-03T15:19:30.569079Z",
     "iopub.status.busy": "2023-02-03T15:19:30.568622Z",
     "iopub.status.idle": "2023-02-03T15:19:32.281013Z",
     "shell.execute_reply": "2023-02-03T15:19:32.279746Z"
    },
    "papermill": {
     "duration": 1.723137,
     "end_time": "2023-02-03T15:19:32.283781",
     "exception": false,
     "start_time": "2023-02-03T15:19:30.560644",
     "status": "completed"
    },
    "tags": []
   },
   "outputs": [
    {
     "data": {
      "text/plain": [
       "MEDICAL_UNIT               0\n",
       "SEX                        0\n",
       "PATIENT_TYPE               0\n",
       "AGE                      124\n",
       "USMER                      0\n",
       "INTUBED                    0\n",
       "PNEUMONIA                  0\n",
       "DIABETES                3338\n",
       "COPD                    3003\n",
       "ASTHMA                  2979\n",
       "INMSUPR                 3404\n",
       "HIPERTENSION            3104\n",
       "OTHER_DISEASE           5045\n",
       "CARDIOVASCULAR          3076\n",
       "OBESITY                 3032\n",
       "RENAL_CHRONIC           3006\n",
       "TOBACCO                 3220\n",
       "CLASIFFICATION_FINAL       0\n",
       "ICU                        0\n",
       "DIED                       0\n",
       "dtype: int64"
      ]
     },
     "execution_count": 10,
     "metadata": {},
     "output_type": "execute_result"
    }
   ],
   "source": [
    "df[df == 98.0].count()\n"
   ]
  },
  {
   "cell_type": "code",
   "execution_count": 11,
   "id": "09d4d8ea",
   "metadata": {
    "execution": {
     "iopub.execute_input": "2023-02-03T15:19:32.299028Z",
     "iopub.status.busy": "2023-02-03T15:19:32.298628Z",
     "iopub.status.idle": "2023-02-03T15:19:34.130435Z",
     "shell.execute_reply": "2023-02-03T15:19:34.129417Z"
    },
    "papermill": {
     "duration": 1.842663,
     "end_time": "2023-02-03T15:19:34.133244",
     "exception": false,
     "start_time": "2023-02-03T15:19:32.290581",
     "status": "completed"
    },
    "tags": []
   },
   "outputs": [
    {
     "data": {
      "text/plain": [
       "MEDICAL_UNIT                0\n",
       "SEX                         0\n",
       "PATIENT_TYPE                0\n",
       "AGE                        86\n",
       "USMER                       0\n",
       "INTUBED                  7325\n",
       "PNEUMONIA               16003\n",
       "DIABETES                    0\n",
       "COPD                        0\n",
       "ASTHMA                      0\n",
       "INMSUPR                     0\n",
       "HIPERTENSION                0\n",
       "OTHER_DISEASE               0\n",
       "CARDIOVASCULAR              0\n",
       "OBESITY                     0\n",
       "RENAL_CHRONIC               0\n",
       "TOBACCO                     0\n",
       "CLASIFFICATION_FINAL        0\n",
       "ICU                      7488\n",
       "DIED                        0\n",
       "dtype: int64"
      ]
     },
     "execution_count": 11,
     "metadata": {},
     "output_type": "execute_result"
    }
   ],
   "source": [
    "df[df == 99.0].count()"
   ]
  },
  {
   "cell_type": "code",
   "execution_count": 12,
   "id": "3d607e84",
   "metadata": {
    "execution": {
     "iopub.execute_input": "2023-02-03T15:19:34.149508Z",
     "iopub.status.busy": "2023-02-03T15:19:34.148775Z",
     "iopub.status.idle": "2023-02-03T15:19:34.157667Z",
     "shell.execute_reply": "2023-02-03T15:19:34.156444Z"
    },
    "papermill": {
     "duration": 0.0195,
     "end_time": "2023-02-03T15:19:34.159912",
     "exception": false,
     "start_time": "2023-02-03T15:19:34.140412",
     "status": "completed"
    },
    "tags": []
   },
   "outputs": [
    {
     "data": {
      "text/plain": [
       "Index(['MEDICAL_UNIT', 'SEX', 'PATIENT_TYPE', 'AGE', 'USMER', 'INTUBED',\n",
       "       'PNEUMONIA', 'DIABETES', 'COPD', 'ASTHMA', 'INMSUPR', 'HIPERTENSION',\n",
       "       'OTHER_DISEASE', 'CARDIOVASCULAR', 'OBESITY', 'RENAL_CHRONIC',\n",
       "       'TOBACCO', 'CLASIFFICATION_FINAL', 'ICU', 'DIED'],\n",
       "      dtype='object')"
      ]
     },
     "execution_count": 12,
     "metadata": {},
     "output_type": "execute_result"
    }
   ],
   "source": [
    "df.columns"
   ]
  },
  {
   "cell_type": "code",
   "execution_count": 13,
   "id": "608fd1f9",
   "metadata": {
    "execution": {
     "iopub.execute_input": "2023-02-03T15:19:34.176313Z",
     "iopub.status.busy": "2023-02-03T15:19:34.175904Z",
     "iopub.status.idle": "2023-02-03T15:19:34.417803Z",
     "shell.execute_reply": "2023-02-03T15:19:34.416386Z"
    },
    "papermill": {
     "duration": 0.253717,
     "end_time": "2023-02-03T15:19:34.420716",
     "exception": false,
     "start_time": "2023-02-03T15:19:34.166999",
     "status": "completed"
    },
    "tags": []
   },
   "outputs": [],
   "source": [
    "df = df[df[['PNEUMONIA', 'DIABETES', 'COPD', 'ASTHMA', 'INMSUPR', 'HIPERTENSION', \n",
    "           'OTHER_DISEASE', 'CARDIOVASCULAR', 'OBESITY', 'RENAL_CHRONIC', 'TOBACCO']]\n",
    "        .isin([1, 2]).all(axis=1)]"
   ]
  },
  {
   "cell_type": "code",
   "execution_count": 14,
   "id": "e5b3cce5",
   "metadata": {
    "execution": {
     "iopub.execute_input": "2023-02-03T15:19:34.436904Z",
     "iopub.status.busy": "2023-02-03T15:19:34.435991Z",
     "iopub.status.idle": "2023-02-03T15:19:36.196266Z",
     "shell.execute_reply": "2023-02-03T15:19:36.195152Z"
    },
    "papermill": {
     "duration": 1.770957,
     "end_time": "2023-02-03T15:19:36.198680",
     "exception": false,
     "start_time": "2023-02-03T15:19:34.427723",
     "status": "completed"
    },
    "tags": []
   },
   "outputs": [
    {
     "data": {
      "text/plain": [
       "MEDICAL_UNIT               0\n",
       "SEX                        0\n",
       "PATIENT_TYPE               0\n",
       "AGE                       80\n",
       "USMER                      0\n",
       "INTUBED                 2153\n",
       "PNEUMONIA                  0\n",
       "DIABETES                   0\n",
       "COPD                       0\n",
       "ASTHMA                     0\n",
       "INMSUPR                    0\n",
       "HIPERTENSION               0\n",
       "OTHER_DISEASE              0\n",
       "CARDIOVASCULAR             0\n",
       "OBESITY                    0\n",
       "RENAL_CHRONIC              0\n",
       "TOBACCO                    0\n",
       "CLASIFFICATION_FINAL       0\n",
       "ICU                     2311\n",
       "DIED                       0\n",
       "dtype: int64"
      ]
     },
     "execution_count": 14,
     "metadata": {},
     "output_type": "execute_result"
    }
   ],
   "source": [
    "df[df == 99].count()"
   ]
  },
  {
   "cell_type": "code",
   "execution_count": 15,
   "id": "0b405fdb",
   "metadata": {
    "execution": {
     "iopub.execute_input": "2023-02-03T15:19:36.214646Z",
     "iopub.status.busy": "2023-02-03T15:19:36.214241Z",
     "iopub.status.idle": "2023-02-03T15:19:40.157519Z",
     "shell.execute_reply": "2023-02-03T15:19:40.156485Z"
    },
    "papermill": {
     "duration": 3.954809,
     "end_time": "2023-02-03T15:19:40.160647",
     "exception": false,
     "start_time": "2023-02-03T15:19:36.205838",
     "status": "completed"
    },
    "tags": []
   },
   "outputs": [
    {
     "data": {
      "image/png": "[encoded data removed]",
      "text/plain": [
       "<Figure size 432x288 with 1 Axes>"
      ]
     },
     "metadata": {
      "needs_background": "light"
     },
     "output_type": "display_data"
    }
   ],
   "source": [
    "# Count the number of \"Alive\" and \"Died\" categories\n",
    "alive_count = df[df['DIED'] == 'Alive'].shape[0]\n",
    "died_count = df[df['DIED'] == 'Died'].shape[0]\n",
    "\n",
    "# Plot the histogram\n",
    "plt.hist(['Alive'] * alive_count + ['Died'] * died_count, bins=2)\n",
    "plt.xlabel(\"Death Status\")\n",
    "plt.ylabel(\"Count\")\n",
    "plt.xticks(['Alive', 'Died'])\n",
    "plt.title(\"Histogram of Death Status\")\n",
    "plt.show()\n",
    "\n"
   ]
  },
  {
   "cell_type": "code",
   "execution_count": null,
   "id": "2b966ee8",
   "metadata": {
    "papermill": {
     "duration": 0.007131,
     "end_time": "2023-02-03T15:19:40.175573",
     "exception": false,
     "start_time": "2023-02-03T15:19:40.168442",
     "status": "completed"
    },
    "tags": []
   },
   "outputs": [],
   "source": []
  },
  {
   "cell_type": "code",
   "execution_count": null,
   "id": "fb012cda",
   "metadata": {
    "papermill": {
     "duration": 0.007223,
     "end_time": "2023-02-03T15:19:40.190559",
     "exception": false,
     "start_time": "2023-02-03T15:19:40.183336",
     "status": "completed"
    },
    "tags": []
   },
   "outputs": [],
   "source": []
  },
  {
   "cell_type": "code",
   "execution_count": null,
   "id": "3cb5ed93",
   "metadata": {
    "papermill": {
     "duration": 0.007259,
     "end_time": "2023-02-03T15:19:40.205494",
     "exception": false,
     "start_time": "2023-02-03T15:19:40.198235",
     "status": "completed"
    },
    "tags": []
   },
   "outputs": [],
   "source": []
  },
  {
   "cell_type": "code",
   "execution_count": null,
   "id": "8c1c7b7e",
   "metadata": {
    "papermill": {
     "duration": 0.007021,
     "end_time": "2023-02-03T15:19:40.219942",
     "exception": false,
     "start_time": "2023-02-03T15:19:40.212921",
     "status": "completed"
    },
    "tags": []
   },
   "outputs": [],
   "source": []
  }
 ],
 "metadata": {
  "kernelspec": {
   "display_name": "Python 3",
   "language": "python",
   "name": "python3"
  },
  "language_info": {
   "codemirror_mode": {
    "name": "ipython",
    "version": 3
   },
   "file_extension": ".py",
   "mimetype": "text/x-python",
   "name": "python",
   "nbconvert_exporter": "python",
   "pygments_lexer": "ipython3",
   "version": "3.7.12"
  },
  "papermill": {
   "default_parameters": {},
   "duration": 27.26354,
   "end_time": "2023-02-03T15:19:41.054515",
   "environment_variables": {},
   "exception": null,
   "input_path": "__notebook__.ipynb",
   "output_path": "__notebook__.ipynb",
   "parameters": {},
   "start_time": "2023-02-03T15:19:13.790975",
   "version": "2.3.4"
  }
 },
 "nbformat": 4,
 "nbformat_minor": 5
}
