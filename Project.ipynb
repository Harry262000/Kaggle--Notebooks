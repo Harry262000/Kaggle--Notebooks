{
 "cells": [
  {
   "cell_type": "code",
   "execution_count": 1,
   "id": "b914bbf5",
   "metadata": {
    "_cell_guid": "b1076dfc-b9ad-4769-8c92-a6c4dae69d19",
    "_uuid": "8f2839f25d086af736a60e9eeb907d3b93b6e0e5",
    "execution": {
     "iopub.execute_input": "2022-08-12T16:48:37.396129Z",
     "iopub.status.busy": "2022-08-12T16:48:37.395668Z",
     "iopub.status.idle": "2022-08-12T16:48:37.415950Z",
     "shell.execute_reply": "2022-08-12T16:48:37.414774Z"
    },
    "papermill": {
     "duration": 0.030841,
     "end_time": "2022-08-12T16:48:37.419326",
     "exception": false,
     "start_time": "2022-08-12T16:48:37.388485",
     "status": "completed"
    },
    "tags": []
   },
   "outputs": [
    {
     "name": "stdout",
     "output_type": "stream",
     "text": [
      "/kaggle/input/diamonds-prices/Diamonds Prices2022.csv\n"
     ]
    }
   ],
   "source": [
    "# This Python 3 environment comes with many helpful analytics libraries installed\n",
    "# It is defined by the kaggle/python Docker image: https://github.com/kaggle/docker-python\n",
    "# For example, here's several helpful packages to load\n",
    "\n",
    "import numpy as np # linear algebra\n",
    "import pandas as pd # data processing, CSV file I/O (e.g. pd.read_csv)\n",
    "\n",
    "# Input data files are available in the read-only \"../input/\" directory\n",
    "# For example, running this (by clicking run or pressing Shift+Enter) will list all files under the input directory\n",
    "\n",
    "import os\n",
    "for dirname, _, filenames in os.walk('/kaggle/input'):\n",
    "    for filename in filenames:\n",
    "        print(os.path.join(dirname, filename))\n",
    "\n",
    "# You can write up to 20GB to the current directory (/kaggle/working/) that gets preserved as output when you create a version using \"Save & Run All\" \n",
    "# You can also write temporary files to /kaggle/temp/, but they won't be saved outside of the current session"
   ]
  },
  {
   "cell_type": "code",
   "execution_count": 2,
   "id": "f307236e",
   "metadata": {
    "execution": {
     "iopub.execute_input": "2022-08-12T16:48:37.431091Z",
     "iopub.status.busy": "2022-08-12T16:48:37.430736Z",
     "iopub.status.idle": "2022-08-12T16:48:38.479795Z",
     "shell.execute_reply": "2022-08-12T16:48:38.478861Z"
    },
    "papermill": {
     "duration": 1.057462,
     "end_time": "2022-08-12T16:48:38.482266",
     "exception": false,
     "start_time": "2022-08-12T16:48:37.424804",
     "status": "completed"
    },
    "tags": []
   },
   "outputs": [],
   "source": [
    "import pandas as pd\n",
    "import numpy as np\n",
    "import matplotlib.pyplot as plt\n",
    "import seaborn as sns\n",
    "from pylab import *"
   ]
  },
  {
   "cell_type": "code",
   "execution_count": 3,
   "id": "713e2238",
   "metadata": {
    "execution": {
     "iopub.execute_input": "2022-08-12T16:48:38.492895Z",
     "iopub.status.busy": "2022-08-12T16:48:38.492031Z",
     "iopub.status.idle": "2022-08-12T16:48:39.340837Z",
     "shell.execute_reply": "2022-08-12T16:48:39.339485Z"
    },
    "papermill": {
     "duration": 0.856972,
     "end_time": "2022-08-12T16:48:39.343601",
     "exception": false,
     "start_time": "2022-08-12T16:48:38.486629",
     "status": "completed"
    },
    "tags": []
   },
   "outputs": [
    {
     "data": {
      "text/html": [
       "<div>\n",
       "<style scoped>\n",
       "    .dataframe tbody tr th:only-of-type {\n",
       "        vertical-align: middle;\n",
       "    }\n",
       "\n",
       "    .dataframe tbody tr th {\n",
       "        vertical-align: top;\n",
       "    }\n",
       "\n",
       "    .dataframe thead th {\n",
       "        text-align: right;\n",
       "    }\n",
       "</style>\n",
       "<table border=\"1\" class=\"dataframe\">\n",
       "  <thead>\n",
       "    <tr style=\"text-align: right;\">\n",
       "      <th></th>\n",
       "      <th>SR.NO</th>\n",
       "      <th>Carat</th>\n",
       "      <th>Cut</th>\n",
       "      <th>Color</th>\n",
       "      <th>Clarity</th>\n",
       "      <th>Depth</th>\n",
       "      <th>Table</th>\n",
       "      <th>Price</th>\n",
       "      <th>length in mm</th>\n",
       "      <th>Width in mm</th>\n",
       "      <th>z</th>\n",
       "    </tr>\n",
       "  </thead>\n",
       "  <tbody>\n",
       "    <tr>\n",
       "      <th>0</th>\n",
       "      <td>1</td>\n",
       "      <td>0.23</td>\n",
       "      <td>Ideal</td>\n",
       "      <td>E</td>\n",
       "      <td>SI2</td>\n",
       "      <td>61.5</td>\n",
       "      <td>55.0</td>\n",
       "      <td>326</td>\n",
       "      <td>3.95</td>\n",
       "      <td>3.98</td>\n",
       "      <td>2.43</td>\n",
       "    </tr>\n",
       "    <tr>\n",
       "      <th>1</th>\n",
       "      <td>2</td>\n",
       "      <td>0.21</td>\n",
       "      <td>Premium</td>\n",
       "      <td>E</td>\n",
       "      <td>SI1</td>\n",
       "      <td>59.8</td>\n",
       "      <td>61.0</td>\n",
       "      <td>326</td>\n",
       "      <td>3.89</td>\n",
       "      <td>3.84</td>\n",
       "      <td>2.31</td>\n",
       "    </tr>\n",
       "    <tr>\n",
       "      <th>2</th>\n",
       "      <td>3</td>\n",
       "      <td>0.23</td>\n",
       "      <td>Good</td>\n",
       "      <td>E</td>\n",
       "      <td>VS1</td>\n",
       "      <td>56.9</td>\n",
       "      <td>65.0</td>\n",
       "      <td>327</td>\n",
       "      <td>4.05</td>\n",
       "      <td>4.07</td>\n",
       "      <td>2.31</td>\n",
       "    </tr>\n",
       "    <tr>\n",
       "      <th>3</th>\n",
       "      <td>4</td>\n",
       "      <td>0.29</td>\n",
       "      <td>Premium</td>\n",
       "      <td>I</td>\n",
       "      <td>VS2</td>\n",
       "      <td>62.4</td>\n",
       "      <td>58.0</td>\n",
       "      <td>334</td>\n",
       "      <td>4.20</td>\n",
       "      <td>4.23</td>\n",
       "      <td>2.63</td>\n",
       "    </tr>\n",
       "    <tr>\n",
       "      <th>4</th>\n",
       "      <td>5</td>\n",
       "      <td>0.31</td>\n",
       "      <td>Good</td>\n",
       "      <td>J</td>\n",
       "      <td>SI2</td>\n",
       "      <td>63.3</td>\n",
       "      <td>58.0</td>\n",
       "      <td>335</td>\n",
       "      <td>4.34</td>\n",
       "      <td>4.35</td>\n",
       "      <td>2.75</td>\n",
       "    </tr>\n",
       "  </tbody>\n",
       "</table>\n",
       "</div>"
      ],
      "text/plain": [
       "   SR.NO  Carat      Cut Color Clarity  Depth  Table  Price  length in mm  \\\n",
       "0      1   0.23    Ideal     E     SI2   61.5   55.0    326          3.95   \n",
       "1      2   0.21  Premium     E     SI1   59.8   61.0    326          3.89   \n",
       "2      3   0.23     Good     E     VS1   56.9   65.0    327          4.05   \n",
       "3      4   0.29  Premium     I     VS2   62.4   58.0    334          4.20   \n",
       "4      5   0.31     Good     J     SI2   63.3   58.0    335          4.34   \n",
       "\n",
       "   Width in mm     z  \n",
       "0         3.98  2.43  \n",
       "1         3.84  2.31  \n",
       "2         4.07  2.31  \n",
       "3         4.23  2.63  \n",
       "4         4.35  2.75  "
      ]
     },
     "execution_count": 3,
     "metadata": {},
     "output_type": "execute_result"
    }
   ],
   "source": [
    "df = pd.read_csv(\"https://raw.githubusercontent.com/Harry262000/Projects/main/Diamonds%20Prices2022.csv\",skiprows=1,header=None, names=['SR.NO','Carat','Cut','Color','Clarity','Depth','Table','Price','length in mm','Width in mm','z']) \n",
    "df.head()"
   ]
  },
  {
   "cell_type": "code",
   "execution_count": 4,
   "id": "b3bf2195",
   "metadata": {
    "execution": {
     "iopub.execute_input": "2022-08-12T16:48:39.354343Z",
     "iopub.status.busy": "2022-08-12T16:48:39.353932Z",
     "iopub.status.idle": "2022-08-12T16:48:39.376495Z",
     "shell.execute_reply": "2022-08-12T16:48:39.375432Z"
    },
    "papermill": {
     "duration": 0.030376,
     "end_time": "2022-08-12T16:48:39.378750",
     "exception": false,
     "start_time": "2022-08-12T16:48:39.348374",
     "status": "completed"
    },
    "tags": []
   },
   "outputs": [
    {
     "data": {
      "text/html": [
       "<div>\n",
       "<style scoped>\n",
       "    .dataframe tbody tr th:only-of-type {\n",
       "        vertical-align: middle;\n",
       "    }\n",
       "\n",
       "    .dataframe tbody tr th {\n",
       "        vertical-align: top;\n",
       "    }\n",
       "\n",
       "    .dataframe thead th {\n",
       "        text-align: right;\n",
       "    }\n",
       "</style>\n",
       "<table border=\"1\" class=\"dataframe\">\n",
       "  <thead>\n",
       "    <tr style=\"text-align: right;\">\n",
       "      <th></th>\n",
       "      <th>SR.NO</th>\n",
       "      <th>Carat</th>\n",
       "      <th>Cut</th>\n",
       "      <th>Color</th>\n",
       "      <th>Clarity</th>\n",
       "      <th>Depth</th>\n",
       "      <th>Table</th>\n",
       "      <th>Price</th>\n",
       "      <th>length in mm</th>\n",
       "      <th>Width in mm</th>\n",
       "      <th>z</th>\n",
       "    </tr>\n",
       "  </thead>\n",
       "  <tbody>\n",
       "    <tr>\n",
       "      <th>0</th>\n",
       "      <td>1</td>\n",
       "      <td>0.23</td>\n",
       "      <td>Ideal</td>\n",
       "      <td>E</td>\n",
       "      <td>SI2</td>\n",
       "      <td>61.5</td>\n",
       "      <td>55.0</td>\n",
       "      <td>326</td>\n",
       "      <td>3.95</td>\n",
       "      <td>3.98</td>\n",
       "      <td>2.43</td>\n",
       "    </tr>\n",
       "    <tr>\n",
       "      <th>1</th>\n",
       "      <td>2</td>\n",
       "      <td>0.21</td>\n",
       "      <td>Premium</td>\n",
       "      <td>E</td>\n",
       "      <td>SI1</td>\n",
       "      <td>59.8</td>\n",
       "      <td>61.0</td>\n",
       "      <td>326</td>\n",
       "      <td>3.89</td>\n",
       "      <td>3.84</td>\n",
       "      <td>2.31</td>\n",
       "    </tr>\n",
       "    <tr>\n",
       "      <th>2</th>\n",
       "      <td>3</td>\n",
       "      <td>0.23</td>\n",
       "      <td>Good</td>\n",
       "      <td>E</td>\n",
       "      <td>VS1</td>\n",
       "      <td>56.9</td>\n",
       "      <td>65.0</td>\n",
       "      <td>327</td>\n",
       "      <td>4.05</td>\n",
       "      <td>4.07</td>\n",
       "      <td>2.31</td>\n",
       "    </tr>\n",
       "    <tr>\n",
       "      <th>3</th>\n",
       "      <td>4</td>\n",
       "      <td>0.29</td>\n",
       "      <td>Premium</td>\n",
       "      <td>I</td>\n",
       "      <td>VS2</td>\n",
       "      <td>62.4</td>\n",
       "      <td>58.0</td>\n",
       "      <td>334</td>\n",
       "      <td>4.20</td>\n",
       "      <td>4.23</td>\n",
       "      <td>2.63</td>\n",
       "    </tr>\n",
       "    <tr>\n",
       "      <th>4</th>\n",
       "      <td>5</td>\n",
       "      <td>0.31</td>\n",
       "      <td>Good</td>\n",
       "      <td>J</td>\n",
       "      <td>SI2</td>\n",
       "      <td>63.3</td>\n",
       "      <td>58.0</td>\n",
       "      <td>335</td>\n",
       "      <td>4.34</td>\n",
       "      <td>4.35</td>\n",
       "      <td>2.75</td>\n",
       "    </tr>\n",
       "    <tr>\n",
       "      <th>5</th>\n",
       "      <td>6</td>\n",
       "      <td>0.24</td>\n",
       "      <td>Very Good</td>\n",
       "      <td>J</td>\n",
       "      <td>VVS2</td>\n",
       "      <td>62.8</td>\n",
       "      <td>57.0</td>\n",
       "      <td>336</td>\n",
       "      <td>3.94</td>\n",
       "      <td>3.96</td>\n",
       "      <td>2.48</td>\n",
       "    </tr>\n",
       "    <tr>\n",
       "      <th>6</th>\n",
       "      <td>7</td>\n",
       "      <td>0.24</td>\n",
       "      <td>Very Good</td>\n",
       "      <td>I</td>\n",
       "      <td>VVS1</td>\n",
       "      <td>62.3</td>\n",
       "      <td>57.0</td>\n",
       "      <td>336</td>\n",
       "      <td>3.95</td>\n",
       "      <td>3.98</td>\n",
       "      <td>2.47</td>\n",
       "    </tr>\n",
       "    <tr>\n",
       "      <th>7</th>\n",
       "      <td>8</td>\n",
       "      <td>0.26</td>\n",
       "      <td>Very Good</td>\n",
       "      <td>H</td>\n",
       "      <td>SI1</td>\n",
       "      <td>61.9</td>\n",
       "      <td>55.0</td>\n",
       "      <td>337</td>\n",
       "      <td>4.07</td>\n",
       "      <td>4.11</td>\n",
       "      <td>2.53</td>\n",
       "    </tr>\n",
       "    <tr>\n",
       "      <th>8</th>\n",
       "      <td>9</td>\n",
       "      <td>0.22</td>\n",
       "      <td>Fair</td>\n",
       "      <td>E</td>\n",
       "      <td>VS2</td>\n",
       "      <td>65.1</td>\n",
       "      <td>61.0</td>\n",
       "      <td>337</td>\n",
       "      <td>3.87</td>\n",
       "      <td>3.78</td>\n",
       "      <td>2.49</td>\n",
       "    </tr>\n",
       "    <tr>\n",
       "      <th>9</th>\n",
       "      <td>10</td>\n",
       "      <td>0.23</td>\n",
       "      <td>Very Good</td>\n",
       "      <td>H</td>\n",
       "      <td>VS1</td>\n",
       "      <td>59.4</td>\n",
       "      <td>61.0</td>\n",
       "      <td>338</td>\n",
       "      <td>4.00</td>\n",
       "      <td>4.05</td>\n",
       "      <td>2.39</td>\n",
       "    </tr>\n",
       "  </tbody>\n",
       "</table>\n",
       "</div>"
      ],
      "text/plain": [
       "   SR.NO  Carat        Cut Color Clarity  Depth  Table  Price  length in mm  \\\n",
       "0      1   0.23      Ideal     E     SI2   61.5   55.0    326          3.95   \n",
       "1      2   0.21    Premium     E     SI1   59.8   61.0    326          3.89   \n",
       "2      3   0.23       Good     E     VS1   56.9   65.0    327          4.05   \n",
       "3      4   0.29    Premium     I     VS2   62.4   58.0    334          4.20   \n",
       "4      5   0.31       Good     J     SI2   63.3   58.0    335          4.34   \n",
       "5      6   0.24  Very Good     J    VVS2   62.8   57.0    336          3.94   \n",
       "6      7   0.24  Very Good     I    VVS1   62.3   57.0    336          3.95   \n",
       "7      8   0.26  Very Good     H     SI1   61.9   55.0    337          4.07   \n",
       "8      9   0.22       Fair     E     VS2   65.1   61.0    337          3.87   \n",
       "9     10   0.23  Very Good     H     VS1   59.4   61.0    338          4.00   \n",
       "\n",
       "   Width in mm     z  \n",
       "0         3.98  2.43  \n",
       "1         3.84  2.31  \n",
       "2         4.07  2.31  \n",
       "3         4.23  2.63  \n",
       "4         4.35  2.75  \n",
       "5         3.96  2.48  \n",
       "6         3.98  2.47  \n",
       "7         4.11  2.53  \n",
       "8         3.78  2.49  \n",
       "9         4.05  2.39  "
      ]
     },
     "execution_count": 4,
     "metadata": {},
     "output_type": "execute_result"
    }
   ],
   "source": [
    "df.head(10)"
   ]
  },
  {
   "cell_type": "code",
   "execution_count": 5,
   "id": "c6b0178d",
   "metadata": {
    "execution": {
     "iopub.execute_input": "2022-08-12T16:48:39.390476Z",
     "iopub.status.busy": "2022-08-12T16:48:39.389743Z",
     "iopub.status.idle": "2022-08-12T16:48:39.410178Z",
     "shell.execute_reply": "2022-08-12T16:48:39.408997Z"
    },
    "papermill": {
     "duration": 0.028995,
     "end_time": "2022-08-12T16:48:39.412710",
     "exception": false,
     "start_time": "2022-08-12T16:48:39.383715",
     "status": "completed"
    },
    "tags": []
   },
   "outputs": [
    {
     "data": {
      "text/html": [
       "<div>\n",
       "<style scoped>\n",
       "    .dataframe tbody tr th:only-of-type {\n",
       "        vertical-align: middle;\n",
       "    }\n",
       "\n",
       "    .dataframe tbody tr th {\n",
       "        vertical-align: top;\n",
       "    }\n",
       "\n",
       "    .dataframe thead th {\n",
       "        text-align: right;\n",
       "    }\n",
       "</style>\n",
       "<table border=\"1\" class=\"dataframe\">\n",
       "  <thead>\n",
       "    <tr style=\"text-align: right;\">\n",
       "      <th></th>\n",
       "      <th>SR.NO</th>\n",
       "      <th>Carat</th>\n",
       "      <th>Cut</th>\n",
       "      <th>Color</th>\n",
       "      <th>Clarity</th>\n",
       "      <th>Depth</th>\n",
       "      <th>Table</th>\n",
       "      <th>Price</th>\n",
       "      <th>length in mm</th>\n",
       "      <th>Width in mm</th>\n",
       "      <th>z</th>\n",
       "    </tr>\n",
       "  </thead>\n",
       "  <tbody>\n",
       "    <tr>\n",
       "      <th>53933</th>\n",
       "      <td>53934</td>\n",
       "      <td>0.70</td>\n",
       "      <td>Very Good</td>\n",
       "      <td>E</td>\n",
       "      <td>VS2</td>\n",
       "      <td>61.2</td>\n",
       "      <td>59.0</td>\n",
       "      <td>2757</td>\n",
       "      <td>5.69</td>\n",
       "      <td>5.72</td>\n",
       "      <td>3.49</td>\n",
       "    </tr>\n",
       "    <tr>\n",
       "      <th>53934</th>\n",
       "      <td>53935</td>\n",
       "      <td>0.72</td>\n",
       "      <td>Premium</td>\n",
       "      <td>D</td>\n",
       "      <td>SI1</td>\n",
       "      <td>62.7</td>\n",
       "      <td>59.0</td>\n",
       "      <td>2757</td>\n",
       "      <td>5.69</td>\n",
       "      <td>5.73</td>\n",
       "      <td>3.58</td>\n",
       "    </tr>\n",
       "    <tr>\n",
       "      <th>53935</th>\n",
       "      <td>53936</td>\n",
       "      <td>0.72</td>\n",
       "      <td>Ideal</td>\n",
       "      <td>D</td>\n",
       "      <td>SI1</td>\n",
       "      <td>60.8</td>\n",
       "      <td>57.0</td>\n",
       "      <td>2757</td>\n",
       "      <td>5.75</td>\n",
       "      <td>5.76</td>\n",
       "      <td>3.50</td>\n",
       "    </tr>\n",
       "    <tr>\n",
       "      <th>53936</th>\n",
       "      <td>53937</td>\n",
       "      <td>0.72</td>\n",
       "      <td>Good</td>\n",
       "      <td>D</td>\n",
       "      <td>SI1</td>\n",
       "      <td>63.1</td>\n",
       "      <td>55.0</td>\n",
       "      <td>2757</td>\n",
       "      <td>5.69</td>\n",
       "      <td>5.75</td>\n",
       "      <td>3.61</td>\n",
       "    </tr>\n",
       "    <tr>\n",
       "      <th>53937</th>\n",
       "      <td>53938</td>\n",
       "      <td>0.70</td>\n",
       "      <td>Very Good</td>\n",
       "      <td>D</td>\n",
       "      <td>SI1</td>\n",
       "      <td>62.8</td>\n",
       "      <td>60.0</td>\n",
       "      <td>2757</td>\n",
       "      <td>5.66</td>\n",
       "      <td>5.68</td>\n",
       "      <td>3.56</td>\n",
       "    </tr>\n",
       "    <tr>\n",
       "      <th>53938</th>\n",
       "      <td>53939</td>\n",
       "      <td>0.86</td>\n",
       "      <td>Premium</td>\n",
       "      <td>H</td>\n",
       "      <td>SI2</td>\n",
       "      <td>61.0</td>\n",
       "      <td>58.0</td>\n",
       "      <td>2757</td>\n",
       "      <td>6.15</td>\n",
       "      <td>6.12</td>\n",
       "      <td>3.74</td>\n",
       "    </tr>\n",
       "    <tr>\n",
       "      <th>53939</th>\n",
       "      <td>53940</td>\n",
       "      <td>0.75</td>\n",
       "      <td>Ideal</td>\n",
       "      <td>D</td>\n",
       "      <td>SI2</td>\n",
       "      <td>62.2</td>\n",
       "      <td>55.0</td>\n",
       "      <td>2757</td>\n",
       "      <td>5.83</td>\n",
       "      <td>5.87</td>\n",
       "      <td>3.64</td>\n",
       "    </tr>\n",
       "    <tr>\n",
       "      <th>53940</th>\n",
       "      <td>53941</td>\n",
       "      <td>0.71</td>\n",
       "      <td>Premium</td>\n",
       "      <td>E</td>\n",
       "      <td>SI1</td>\n",
       "      <td>60.5</td>\n",
       "      <td>55.0</td>\n",
       "      <td>2756</td>\n",
       "      <td>5.79</td>\n",
       "      <td>5.74</td>\n",
       "      <td>3.49</td>\n",
       "    </tr>\n",
       "    <tr>\n",
       "      <th>53941</th>\n",
       "      <td>53942</td>\n",
       "      <td>0.71</td>\n",
       "      <td>Premium</td>\n",
       "      <td>F</td>\n",
       "      <td>SI1</td>\n",
       "      <td>59.8</td>\n",
       "      <td>62.0</td>\n",
       "      <td>2756</td>\n",
       "      <td>5.74</td>\n",
       "      <td>5.73</td>\n",
       "      <td>3.43</td>\n",
       "    </tr>\n",
       "    <tr>\n",
       "      <th>53942</th>\n",
       "      <td>53943</td>\n",
       "      <td>0.70</td>\n",
       "      <td>Very Good</td>\n",
       "      <td>E</td>\n",
       "      <td>VS2</td>\n",
       "      <td>60.5</td>\n",
       "      <td>59.0</td>\n",
       "      <td>2757</td>\n",
       "      <td>5.71</td>\n",
       "      <td>5.76</td>\n",
       "      <td>3.47</td>\n",
       "    </tr>\n",
       "  </tbody>\n",
       "</table>\n",
       "</div>"
      ],
      "text/plain": [
       "       SR.NO  Carat        Cut Color Clarity  Depth  Table  Price  \\\n",
       "53933  53934   0.70  Very Good     E     VS2   61.2   59.0   2757   \n",
       "53934  53935   0.72    Premium     D     SI1   62.7   59.0   2757   \n",
       "53935  53936   0.72      Ideal     D     SI1   60.8   57.0   2757   \n",
       "53936  53937   0.72       Good     D     SI1   63.1   55.0   2757   \n",
       "53937  53938   0.70  Very Good     D     SI1   62.8   60.0   2757   \n",
       "53938  53939   0.86    Premium     H     SI2   61.0   58.0   2757   \n",
       "53939  53940   0.75      Ideal     D     SI2   62.2   55.0   2757   \n",
       "53940  53941   0.71    Premium     E     SI1   60.5   55.0   2756   \n",
       "53941  53942   0.71    Premium     F     SI1   59.8   62.0   2756   \n",
       "53942  53943   0.70  Very Good     E     VS2   60.5   59.0   2757   \n",
       "\n",
       "       length in mm  Width in mm     z  \n",
       "53933          5.69         5.72  3.49  \n",
       "53934          5.69         5.73  3.58  \n",
       "53935          5.75         5.76  3.50  \n",
       "53936          5.69         5.75  3.61  \n",
       "53937          5.66         5.68  3.56  \n",
       "53938          6.15         6.12  3.74  \n",
       "53939          5.83         5.87  3.64  \n",
       "53940          5.79         5.74  3.49  \n",
       "53941          5.74         5.73  3.43  \n",
       "53942          5.71         5.76  3.47  "
      ]
     },
     "execution_count": 5,
     "metadata": {},
     "output_type": "execute_result"
    }
   ],
   "source": [
    "df.tail(10)"
   ]
  },
  {
   "cell_type": "code",
   "execution_count": 6,
   "id": "510990ca",
   "metadata": {
    "execution": {
     "iopub.execute_input": "2022-08-12T16:48:39.425517Z",
     "iopub.status.busy": "2022-08-12T16:48:39.425143Z",
     "iopub.status.idle": "2022-08-12T16:48:39.484604Z",
     "shell.execute_reply": "2022-08-12T16:48:39.483276Z"
    },
    "papermill": {
     "duration": 0.069021,
     "end_time": "2022-08-12T16:48:39.487290",
     "exception": false,
     "start_time": "2022-08-12T16:48:39.418269",
     "status": "completed"
    },
    "tags": []
   },
   "outputs": [
    {
     "data": {
      "text/html": [
       "<div>\n",
       "<style scoped>\n",
       "    .dataframe tbody tr th:only-of-type {\n",
       "        vertical-align: middle;\n",
       "    }\n",
       "\n",
       "    .dataframe tbody tr th {\n",
       "        vertical-align: top;\n",
       "    }\n",
       "\n",
       "    .dataframe thead th {\n",
       "        text-align: right;\n",
       "    }\n",
       "</style>\n",
       "<table border=\"1\" class=\"dataframe\">\n",
       "  <thead>\n",
       "    <tr style=\"text-align: right;\">\n",
       "      <th></th>\n",
       "      <th>SR.NO</th>\n",
       "      <th>Carat</th>\n",
       "      <th>Depth</th>\n",
       "      <th>Table</th>\n",
       "      <th>Price</th>\n",
       "      <th>length in mm</th>\n",
       "      <th>Width in mm</th>\n",
       "      <th>z</th>\n",
       "    </tr>\n",
       "  </thead>\n",
       "  <tbody>\n",
       "    <tr>\n",
       "      <th>count</th>\n",
       "      <td>53943.000000</td>\n",
       "      <td>53943.000000</td>\n",
       "      <td>53943.000000</td>\n",
       "      <td>53943.000000</td>\n",
       "      <td>53943.000000</td>\n",
       "      <td>53943.000000</td>\n",
       "      <td>53943.000000</td>\n",
       "      <td>53943.000000</td>\n",
       "    </tr>\n",
       "    <tr>\n",
       "      <th>mean</th>\n",
       "      <td>26972.000000</td>\n",
       "      <td>0.797935</td>\n",
       "      <td>61.749322</td>\n",
       "      <td>57.457251</td>\n",
       "      <td>3932.734294</td>\n",
       "      <td>5.731158</td>\n",
       "      <td>5.734526</td>\n",
       "      <td>3.538730</td>\n",
       "    </tr>\n",
       "    <tr>\n",
       "      <th>std</th>\n",
       "      <td>15572.147122</td>\n",
       "      <td>0.473999</td>\n",
       "      <td>1.432626</td>\n",
       "      <td>2.234549</td>\n",
       "      <td>3989.338447</td>\n",
       "      <td>1.121730</td>\n",
       "      <td>1.142103</td>\n",
       "      <td>0.705679</td>\n",
       "    </tr>\n",
       "    <tr>\n",
       "      <th>min</th>\n",
       "      <td>1.000000</td>\n",
       "      <td>0.200000</td>\n",
       "      <td>43.000000</td>\n",
       "      <td>43.000000</td>\n",
       "      <td>326.000000</td>\n",
       "      <td>0.000000</td>\n",
       "      <td>0.000000</td>\n",
       "      <td>0.000000</td>\n",
       "    </tr>\n",
       "    <tr>\n",
       "      <th>25%</th>\n",
       "      <td>13486.500000</td>\n",
       "      <td>0.400000</td>\n",
       "      <td>61.000000</td>\n",
       "      <td>56.000000</td>\n",
       "      <td>950.000000</td>\n",
       "      <td>4.710000</td>\n",
       "      <td>4.720000</td>\n",
       "      <td>2.910000</td>\n",
       "    </tr>\n",
       "    <tr>\n",
       "      <th>50%</th>\n",
       "      <td>26972.000000</td>\n",
       "      <td>0.700000</td>\n",
       "      <td>61.800000</td>\n",
       "      <td>57.000000</td>\n",
       "      <td>2401.000000</td>\n",
       "      <td>5.700000</td>\n",
       "      <td>5.710000</td>\n",
       "      <td>3.530000</td>\n",
       "    </tr>\n",
       "    <tr>\n",
       "      <th>75%</th>\n",
       "      <td>40457.500000</td>\n",
       "      <td>1.040000</td>\n",
       "      <td>62.500000</td>\n",
       "      <td>59.000000</td>\n",
       "      <td>5324.000000</td>\n",
       "      <td>6.540000</td>\n",
       "      <td>6.540000</td>\n",
       "      <td>4.040000</td>\n",
       "    </tr>\n",
       "    <tr>\n",
       "      <th>max</th>\n",
       "      <td>53943.000000</td>\n",
       "      <td>5.010000</td>\n",
       "      <td>79.000000</td>\n",
       "      <td>95.000000</td>\n",
       "      <td>18823.000000</td>\n",
       "      <td>10.740000</td>\n",
       "      <td>58.900000</td>\n",
       "      <td>31.800000</td>\n",
       "    </tr>\n",
       "  </tbody>\n",
       "</table>\n",
       "</div>"
      ],
      "text/plain": [
       "              SR.NO         Carat         Depth         Table         Price  \\\n",
       "count  53943.000000  53943.000000  53943.000000  53943.000000  53943.000000   \n",
       "mean   26972.000000      0.797935     61.749322     57.457251   3932.734294   \n",
       "std    15572.147122      0.473999      1.432626      2.234549   3989.338447   \n",
       "min        1.000000      0.200000     43.000000     43.000000    326.000000   \n",
       "25%    13486.500000      0.400000     61.000000     56.000000    950.000000   \n",
       "50%    26972.000000      0.700000     61.800000     57.000000   2401.000000   \n",
       "75%    40457.500000      1.040000     62.500000     59.000000   5324.000000   \n",
       "max    53943.000000      5.010000     79.000000     95.000000  18823.000000   \n",
       "\n",
       "       length in mm   Width in mm             z  \n",
       "count  53943.000000  53943.000000  53943.000000  \n",
       "mean       5.731158      5.734526      3.538730  \n",
       "std        1.121730      1.142103      0.705679  \n",
       "min        0.000000      0.000000      0.000000  \n",
       "25%        4.710000      4.720000      2.910000  \n",
       "50%        5.700000      5.710000      3.530000  \n",
       "75%        6.540000      6.540000      4.040000  \n",
       "max       10.740000     58.900000     31.800000  "
      ]
     },
     "execution_count": 6,
     "metadata": {},
     "output_type": "execute_result"
    }
   ],
   "source": [
    "df.describe()"
   ]
  },
  {
   "cell_type": "code",
   "execution_count": 7,
   "id": "6dc3ac0b",
   "metadata": {
    "execution": {
     "iopub.execute_input": "2022-08-12T16:48:39.500430Z",
     "iopub.status.busy": "2022-08-12T16:48:39.499519Z",
     "iopub.status.idle": "2022-08-12T16:48:39.522414Z",
     "shell.execute_reply": "2022-08-12T16:48:39.521400Z"
    },
    "papermill": {
     "duration": 0.032452,
     "end_time": "2022-08-12T16:48:39.525303",
     "exception": false,
     "start_time": "2022-08-12T16:48:39.492851",
     "status": "completed"
    },
    "tags": []
   },
   "outputs": [
    {
     "name": "stdout",
     "output_type": "stream",
     "text": [
      "<class 'pandas.core.frame.DataFrame'>\n",
      "RangeIndex: 53943 entries, 0 to 53942\n",
      "Data columns (total 11 columns):\n",
      " #   Column        Non-Null Count  Dtype  \n",
      "---  ------        --------------  -----  \n",
      " 0   SR.NO         53943 non-null  int64  \n",
      " 1   Carat         53943 non-null  float64\n",
      " 2   Cut           53943 non-null  object \n",
      " 3   Color         53943 non-null  object \n",
      " 4   Clarity       53943 non-null  object \n",
      " 5   Depth         53943 non-null  float64\n",
      " 6   Table         53943 non-null  float64\n",
      " 7   Price         53943 non-null  int64  \n",
      " 8   length in mm  53943 non-null  float64\n",
      " 9   Width in mm   53943 non-null  float64\n",
      " 10  z             53943 non-null  float64\n",
      "dtypes: float64(6), int64(2), object(3)\n",
      "memory usage: 4.5+ MB\n"
     ]
    }
   ],
   "source": [
    "df.info()"
   ]
  },
  {
   "cell_type": "code",
   "execution_count": 8,
   "id": "61813f45",
   "metadata": {
    "execution": {
     "iopub.execute_input": "2022-08-12T16:48:39.537685Z",
     "iopub.status.busy": "2022-08-12T16:48:39.537318Z",
     "iopub.status.idle": "2022-08-12T16:48:39.549668Z",
     "shell.execute_reply": "2022-08-12T16:48:39.548783Z"
    },
    "papermill": {
     "duration": 0.020919,
     "end_time": "2022-08-12T16:48:39.551646",
     "exception": false,
     "start_time": "2022-08-12T16:48:39.530727",
     "status": "completed"
    },
    "tags": []
   },
   "outputs": [
    {
     "data": {
      "text/plain": [
       "62.0    2239\n",
       "61.9    2163\n",
       "61.8    2077\n",
       "62.2    2039\n",
       "62.1    2020\n",
       "        ... \n",
       "71.3       1\n",
       "44.0       1\n",
       "53.0       1\n",
       "53.1       1\n",
       "54.7       1\n",
       "Name: Depth, Length: 184, dtype: int64"
      ]
     },
     "execution_count": 8,
     "metadata": {},
     "output_type": "execute_result"
    }
   ],
   "source": [
    "df['Depth'].value_counts()"
   ]
  },
  {
   "cell_type": "code",
   "execution_count": 9,
   "id": "89ce871d",
   "metadata": {
    "execution": {
     "iopub.execute_input": "2022-08-12T16:48:39.564505Z",
     "iopub.status.busy": "2022-08-12T16:48:39.563858Z",
     "iopub.status.idle": "2022-08-12T16:48:39.579474Z",
     "shell.execute_reply": "2022-08-12T16:48:39.578709Z"
    },
    "papermill": {
     "duration": 0.024598,
     "end_time": "2022-08-12T16:48:39.581732",
     "exception": false,
     "start_time": "2022-08-12T16:48:39.557134",
     "status": "completed"
    },
    "tags": []
   },
   "outputs": [
    {
     "data": {
      "text/plain": [
       "SR.NO           0\n",
       "Carat           0\n",
       "Cut             0\n",
       "Color           0\n",
       "Clarity         0\n",
       "Depth           0\n",
       "Table           0\n",
       "Price           0\n",
       "length in mm    0\n",
       "Width in mm     0\n",
       "z               0\n",
       "dtype: int64"
      ]
     },
     "execution_count": 9,
     "metadata": {},
     "output_type": "execute_result"
    }
   ],
   "source": [
    "df.isnull().sum()"
   ]
  },
  {
   "cell_type": "code",
   "execution_count": 10,
   "id": "79bec66e",
   "metadata": {
    "execution": {
     "iopub.execute_input": "2022-08-12T16:48:39.594707Z",
     "iopub.status.busy": "2022-08-12T16:48:39.594098Z",
     "iopub.status.idle": "2022-08-12T16:48:39.814157Z",
     "shell.execute_reply": "2022-08-12T16:48:39.813153Z"
    },
    "papermill": {
     "duration": 0.229248,
     "end_time": "2022-08-12T16:48:39.816590",
     "exception": false,
     "start_time": "2022-08-12T16:48:39.587342",
     "status": "completed"
    },
    "tags": []
   },
   "outputs": [
    {
     "data": {
      "text/plain": [
       "<AxesSubplot:>"
      ]
     },
     "execution_count": 10,
     "metadata": {},
     "output_type": "execute_result"
    },
    {
     "data": {
      "image/png": "[encoded data removed]",
      "text/plain": [
       "<Figure size 432x288 with 1 Axes>"
      ]
     },
     "metadata": {
      "needs_background": "light"
     },
     "output_type": "display_data"
    }
   ],
   "source": [
    "df['Carat'].hist()"
   ]
  },
  {
   "cell_type": "code",
   "execution_count": 11,
   "id": "15793064",
   "metadata": {
    "execution": {
     "iopub.execute_input": "2022-08-12T16:48:39.830733Z",
     "iopub.status.busy": "2022-08-12T16:48:39.829765Z",
     "iopub.status.idle": "2022-08-12T16:48:40.036717Z",
     "shell.execute_reply": "2022-08-12T16:48:40.035681Z"
    },
    "papermill": {
     "duration": 0.216472,
     "end_time": "2022-08-12T16:48:40.039136",
     "exception": false,
     "start_time": "2022-08-12T16:48:39.822664",
     "status": "completed"
    },
    "tags": []
   },
   "outputs": [
    {
     "data": {
      "text/plain": [
       "<AxesSubplot:>"
      ]
     },
     "execution_count": 11,
     "metadata": {},
     "output_type": "execute_result"
    },
    {
     "data": {
      "image/png": "[encoded data removed]",
      "text/plain": [
       "<Figure size 432x288 with 1 Axes>"
      ]
     },
     "metadata": {
      "needs_background": "light"
     },
     "output_type": "display_data"
    }
   ],
   "source": [
    "df['Cut'].hist()"
   ]
  },
  {
   "cell_type": "code",
   "execution_count": 12,
   "id": "7d039040",
   "metadata": {
    "execution": {
     "iopub.execute_input": "2022-08-12T16:48:40.053086Z",
     "iopub.status.busy": "2022-08-12T16:48:40.052713Z",
     "iopub.status.idle": "2022-08-12T16:48:40.275824Z",
     "shell.execute_reply": "2022-08-12T16:48:40.275075Z"
    },
    "papermill": {
     "duration": 0.232655,
     "end_time": "2022-08-12T16:48:40.278106",
     "exception": false,
     "start_time": "2022-08-12T16:48:40.045451",
     "status": "completed"
    },
    "tags": []
   },
   "outputs": [
    {
     "data": {
      "text/plain": [
       "<AxesSubplot:>"
      ]
     },
     "execution_count": 12,
     "metadata": {},
     "output_type": "execute_result"
    },
    {
     "data": {
      "image/png": "[encoded data removed]",
      "text/plain": [
       "<Figure size 432x288 with 1 Axes>"
      ]
     },
     "metadata": {
      "needs_background": "light"
     },
     "output_type": "display_data"
    }
   ],
   "source": [
    "df['Depth'].hist()"
   ]
  },
  {
   "cell_type": "code",
   "execution_count": 13,
   "id": "694a3535",
   "metadata": {
    "execution": {
     "iopub.execute_input": "2022-08-12T16:48:40.293609Z",
     "iopub.status.busy": "2022-08-12T16:48:40.292822Z",
     "iopub.status.idle": "2022-08-12T16:48:40.501570Z",
     "shell.execute_reply": "2022-08-12T16:48:40.500392Z"
    },
    "papermill": {
     "duration": 0.219193,
     "end_time": "2022-08-12T16:48:40.504164",
     "exception": false,
     "start_time": "2022-08-12T16:48:40.284971",
     "status": "completed"
    },
    "tags": []
   },
   "outputs": [
    {
     "data": {
      "text/plain": [
       "<AxesSubplot:>"
      ]
     },
     "execution_count": 13,
     "metadata": {},
     "output_type": "execute_result"
    },
    {
     "data": {
      "image/png": "[encoded data removed]",
      "text/plain": [
       "<Figure size 432x288 with 1 Axes>"
      ]
     },
     "metadata": {
      "needs_background": "light"
     },
     "output_type": "display_data"
    }
   ],
   "source": [
    "df['Price'].hist()"
   ]
  },
  {
   "cell_type": "code",
   "execution_count": 14,
   "id": "97ba8a76",
   "metadata": {
    "execution": {
     "iopub.execute_input": "2022-08-12T16:48:40.521571Z",
     "iopub.status.busy": "2022-08-12T16:48:40.519733Z",
     "iopub.status.idle": "2022-08-12T16:48:40.526560Z",
     "shell.execute_reply": "2022-08-12T16:48:40.525588Z"
    },
    "papermill": {
     "duration": 0.017581,
     "end_time": "2022-08-12T16:48:40.528928",
     "exception": false,
     "start_time": "2022-08-12T16:48:40.511347",
     "status": "completed"
    },
    "tags": []
   },
   "outputs": [],
   "source": [
    "#scatter Plot\n",
    "colors = ['red' , 'green', 'blue']\n",
    "Details = ['Carat', 'Depth', 'Price']"
   ]
  },
  {
   "cell_type": "code",
   "execution_count": null,
   "id": "7cf4a6ef",
   "metadata": {
    "papermill": {
     "duration": 0.006601,
     "end_time": "2022-08-12T16:48:40.542757",
     "exception": false,
     "start_time": "2022-08-12T16:48:40.536156",
     "status": "completed"
    },
    "tags": []
   },
   "outputs": [],
   "source": []
  }
 ],
 "metadata": {
  "kernelspec": {
   "display_name": "Python 3",
   "language": "python",
   "name": "python3"
  },
  "language_info": {
   "codemirror_mode": {
    "name": "ipython",
    "version": 3
   },
   "file_extension": ".py",
   "mimetype": "text/x-python",
   "name": "python",
   "nbconvert_exporter": "python",
   "pygments_lexer": "ipython3",
   "version": "3.7.12"
  },
  "papermill": {
   "default_parameters": {},
   "duration": 12.633373,
   "end_time": "2022-08-12T16:48:41.271399",
   "environment_variables": {},
   "exception": null,
   "input_path": "__notebook__.ipynb",
   "output_path": "__notebook__.ipynb",
   "parameters": {},
   "start_time": "2022-08-12T16:48:28.638026",
   "version": "2.3.4"
  }
 },
 "nbformat": 4,
 "nbformat_minor": 5
}
