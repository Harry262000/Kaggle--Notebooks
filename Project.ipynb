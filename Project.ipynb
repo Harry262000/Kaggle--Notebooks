{
  "nbformat": 4,
  "nbformat_minor": 0,
  "metadata": {
    "colab": {
      "name": "Project.ipynb",
      "provenance": [],
      "authorship_tag": "ABX9TyP0eobTpmpD5Xf8wlz61v7G",
      "include_colab_link": true
    },
    "kernelspec": {
      "name": "python3",
      "display_name": "Python 3"
    },
    "language_info": {
      "name": "python"
    }
  },
  "cells": [
    {
      "cell_type": "markdown",
      "metadata": {
        "id": "view-in-github",
        "colab_type": "text"
      },
      "source": [
        "<a href=\"https://colab.research.google.com/github/Harry262000/Projects/blob/main/Project.ipynb\" target=\"_parent\"><img src=\"https://colab.research.google.com/assets/colab-badge.svg\" alt=\"Open In Colab\"/></a>"
      ]
    },
    {
      "cell_type": "code",
      "execution_count": null,
      "metadata": {
        "id": "Tdun0moWXLiK"
      },
      "outputs": [],
      "source": [
        "import pandas as pd\n",
        "import numpy as np\n",
        "import matplotlib.pyplot as plt\n",
        "import seaborn as sns\n",
        "from pylab import *"
      ]
    },
    {
      "cell_type": "code",
      "source": [
        "df = pd.read_csv(\"https://raw.githubusercontent.com/Harry262000/Projects/main/Diamonds%20Prices2022.csv\", header=None)\n",
        "print(df)"
      ],
      "metadata": {
        "colab": {
          "base_uri": "https://localhost:8080/"
        },
        "id": "OKcaPIgrrWqj",
        "outputId": "5149acdb-3930-4e9d-d57f-994f295df513"
      },
      "execution_count": null,
      "outputs": [
        {
          "output_type": "stream",
          "name": "stdout",
          "text": [
            "            0      1          2      3        4      5      6      7     8   \\\n",
            "0          NaN  carat        cut  color  clarity  depth  table  price     x   \n",
            "1          1.0   0.23      Ideal      E      SI2   61.5     55    326  3.95   \n",
            "2          2.0   0.21    Premium      E      SI1   59.8     61    326  3.89   \n",
            "3          3.0   0.23       Good      E      VS1   56.9     65    327  4.05   \n",
            "4          4.0   0.29    Premium      I      VS2   62.4     58    334   4.2   \n",
            "...        ...    ...        ...    ...      ...    ...    ...    ...   ...   \n",
            "53939  53939.0   0.86    Premium      H      SI2     61     58   2757  6.15   \n",
            "53940  53940.0   0.75      Ideal      D      SI2   62.2     55   2757  5.83   \n",
            "53941  53941.0   0.71    Premium      E      SI1   60.5     55   2756  5.79   \n",
            "53942  53942.0   0.71    Premium      F      SI1   59.8     62   2756  5.74   \n",
            "53943  53943.0    0.7  Very Good      E      VS2   60.5     59   2757  5.71   \n",
            "\n",
            "         9     10  \n",
            "0         y     z  \n",
            "1      3.98  2.43  \n",
            "2      3.84  2.31  \n",
            "3      4.07  2.31  \n",
            "4      4.23  2.63  \n",
            "...     ...   ...  \n",
            "53939  6.12  3.74  \n",
            "53940  5.87  3.64  \n",
            "53941  5.74  3.49  \n",
            "53942  5.73  3.43  \n",
            "53943  5.76  3.47  \n",
            "\n",
            "[53944 rows x 11 columns]\n"
          ]
        }
      ]
    },
    {
      "cell_type": "code",
      "source": [
        ""
      ],
      "metadata": {
        "id": "q7Q-5DNjrtzR"
      },
      "execution_count": null,
      "outputs": []
    }
  ]
}